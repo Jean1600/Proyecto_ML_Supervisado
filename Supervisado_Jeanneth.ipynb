{
 "cells": [
  {
   "cell_type": "markdown",
   "metadata": {},
   "source": [
    "# Proyecto de consolidación: Churn en una compañía eléctrica"
   ]
  },
  {
   "cell_type": "markdown",
   "metadata": {},
   "source": [
    "# 1. Carga de datos"
   ]
  },
  {
   "cell_type": "markdown",
   "metadata": {},
   "source": [
    "En primer lugar, vamos a cargar las bibliotecas básicas, que usaremos a lo largo de todo el notebook. Es recomendable importar las bibliotecas necesarias al principio del documento para evitar problemas al no ejecutar el código de manera secuencial."
   ]
  },
  {
   "cell_type": "code",
   "execution_count": 1,
   "metadata": {},
   "outputs": [],
   "source": [
    "import numpy  as np\n",
    "import pandas as pd"
   ]
  },
  {
   "cell_type": "markdown",
   "metadata": {},
   "source": [
    "Cargamos los datos disponibles como ficheros CSV en el directorio `data` y creamos 3 *dataframes* con los nombres:\n",
    "   * 'train_price'\n",
    "   * 'train_sme'\n",
    "   * 'train_target'\n",
    "\n",
    "Al cargar los datos, nos aseguramos de convertir las columnas con información temporal al formato adecuado, por si necesitamos, posteriormente, operar con ellas. También aprovechamos para asegurarnos de que la columna `id` es usada como índice en las 3 tablas."
   ]
  },
  {
   "cell_type": "code",
   "execution_count": 2,
   "metadata": {},
   "outputs": [],
   "source": [
    "train_price =pd.read_csv('./data/Training_PRICE_hist.csv', parse_dates=['price_date'], index_col='id')\n",
    "train_sme   =pd.read_csv('./data/Training_SME_data.csv'  , parse_dates=['date_activ','date_end','date_first_activ','date_modif_prod','date_renewal'], index_col='id')\n",
    "train_target=pd.read_csv('./data/Training_TARGET.csv'    , index_col='id')"
   ]
  },
  {
   "cell_type": "markdown",
   "metadata": {},
   "source": [
    "Antes de continuar con el análisis, siempre es conveniente examinar el tipo de datos con los que vamos a trabajar. Para ello, usaremos los métodos `info` y `head` para poder obtener información básica de los *dataframes* (variables, tipos, nulos, etc.) y visualizar las primeras filas, respectivamente."
   ]
  },
  {
   "cell_type": "code",
   "execution_count": 3,
   "metadata": {},
   "outputs": [
    {
     "name": "stdout",
     "output_type": "stream",
     "text": [
      "<class 'pandas.core.frame.DataFrame'>\n",
      "Index: 193002 entries, 038af19179925da21a25619c5a24b745 to 16f51cdc2baa19af0b940ee1b3dd17d5\n",
      "Data columns (total 7 columns):\n",
      " #   Column        Non-Null Count   Dtype         \n",
      "---  ------        --------------   -----         \n",
      " 0   price_date    193002 non-null  datetime64[ns]\n",
      " 1   price_p1_var  191643 non-null  float64       \n",
      " 2   price_p2_var  191643 non-null  float64       \n",
      " 3   price_p3_var  191643 non-null  float64       \n",
      " 4   price_p1_fix  191643 non-null  float64       \n",
      " 5   price_p2_fix  191643 non-null  float64       \n",
      " 6   price_p3_fix  191643 non-null  float64       \n",
      "dtypes: datetime64[ns](1), float64(6)\n",
      "memory usage: 11.8+ MB\n"
     ]
    }
   ],
   "source": [
    "train_price.info()"
   ]
  },
  {
   "cell_type": "code",
   "execution_count": 4,
   "metadata": {},
   "outputs": [
    {
     "data": {
      "text/html": [
       "<div>\n",
       "<style scoped>\n",
       "    .dataframe tbody tr th:only-of-type {\n",
       "        vertical-align: middle;\n",
       "    }\n",
       "\n",
       "    .dataframe tbody tr th {\n",
       "        vertical-align: top;\n",
       "    }\n",
       "\n",
       "    .dataframe thead th {\n",
       "        text-align: right;\n",
       "    }\n",
       "</style>\n",
       "<table border=\"1\" class=\"dataframe\">\n",
       "  <thead>\n",
       "    <tr style=\"text-align: right;\">\n",
       "      <th></th>\n",
       "      <th>price_date</th>\n",
       "      <th>price_p1_var</th>\n",
       "      <th>price_p2_var</th>\n",
       "      <th>price_p3_var</th>\n",
       "      <th>price_p1_fix</th>\n",
       "      <th>price_p2_fix</th>\n",
       "      <th>price_p3_fix</th>\n",
       "    </tr>\n",
       "    <tr>\n",
       "      <th>id</th>\n",
       "      <th></th>\n",
       "      <th></th>\n",
       "      <th></th>\n",
       "      <th></th>\n",
       "      <th></th>\n",
       "      <th></th>\n",
       "      <th></th>\n",
       "    </tr>\n",
       "  </thead>\n",
       "  <tbody>\n",
       "    <tr>\n",
       "      <th>038af19179925da21a25619c5a24b745</th>\n",
       "      <td>2015-01-01</td>\n",
       "      <td>0.151367</td>\n",
       "      <td>0.0</td>\n",
       "      <td>0.0</td>\n",
       "      <td>44.266931</td>\n",
       "      <td>0.0</td>\n",
       "      <td>0.0</td>\n",
       "    </tr>\n",
       "    <tr>\n",
       "      <th>038af19179925da21a25619c5a24b745</th>\n",
       "      <td>2015-02-01</td>\n",
       "      <td>0.151367</td>\n",
       "      <td>0.0</td>\n",
       "      <td>0.0</td>\n",
       "      <td>44.266931</td>\n",
       "      <td>0.0</td>\n",
       "      <td>0.0</td>\n",
       "    </tr>\n",
       "    <tr>\n",
       "      <th>038af19179925da21a25619c5a24b745</th>\n",
       "      <td>2015-03-01</td>\n",
       "      <td>0.151367</td>\n",
       "      <td>0.0</td>\n",
       "      <td>0.0</td>\n",
       "      <td>44.266931</td>\n",
       "      <td>0.0</td>\n",
       "      <td>0.0</td>\n",
       "    </tr>\n",
       "    <tr>\n",
       "      <th>038af19179925da21a25619c5a24b745</th>\n",
       "      <td>2015-04-01</td>\n",
       "      <td>0.149626</td>\n",
       "      <td>0.0</td>\n",
       "      <td>0.0</td>\n",
       "      <td>44.266931</td>\n",
       "      <td>0.0</td>\n",
       "      <td>0.0</td>\n",
       "    </tr>\n",
       "    <tr>\n",
       "      <th>038af19179925da21a25619c5a24b745</th>\n",
       "      <td>2015-05-01</td>\n",
       "      <td>0.149626</td>\n",
       "      <td>0.0</td>\n",
       "      <td>0.0</td>\n",
       "      <td>44.266931</td>\n",
       "      <td>0.0</td>\n",
       "      <td>0.0</td>\n",
       "    </tr>\n",
       "  </tbody>\n",
       "</table>\n",
       "</div>"
      ],
      "text/plain": [
       "                                 price_date  price_p1_var  price_p2_var  \\\n",
       "id                                                                        \n",
       "038af19179925da21a25619c5a24b745 2015-01-01      0.151367           0.0   \n",
       "038af19179925da21a25619c5a24b745 2015-02-01      0.151367           0.0   \n",
       "038af19179925da21a25619c5a24b745 2015-03-01      0.151367           0.0   \n",
       "038af19179925da21a25619c5a24b745 2015-04-01      0.149626           0.0   \n",
       "038af19179925da21a25619c5a24b745 2015-05-01      0.149626           0.0   \n",
       "\n",
       "                                  price_p3_var  price_p1_fix  price_p2_fix  \\\n",
       "id                                                                           \n",
       "038af19179925da21a25619c5a24b745           0.0     44.266931           0.0   \n",
       "038af19179925da21a25619c5a24b745           0.0     44.266931           0.0   \n",
       "038af19179925da21a25619c5a24b745           0.0     44.266931           0.0   \n",
       "038af19179925da21a25619c5a24b745           0.0     44.266931           0.0   \n",
       "038af19179925da21a25619c5a24b745           0.0     44.266931           0.0   \n",
       "\n",
       "                                  price_p3_fix  \n",
       "id                                              \n",
       "038af19179925da21a25619c5a24b745           0.0  \n",
       "038af19179925da21a25619c5a24b745           0.0  \n",
       "038af19179925da21a25619c5a24b745           0.0  \n",
       "038af19179925da21a25619c5a24b745           0.0  \n",
       "038af19179925da21a25619c5a24b745           0.0  "
      ]
     },
     "execution_count": 4,
     "metadata": {},
     "output_type": "execute_result"
    }
   ],
   "source": [
    "train_price.head()"
   ]
  },
  {
   "cell_type": "code",
   "execution_count": 5,
   "metadata": {},
   "outputs": [
    {
     "name": "stdout",
     "output_type": "stream",
     "text": [
      "<class 'pandas.core.frame.DataFrame'>\n",
      "Index: 16083 entries, 48ada52261e7cf58715202705a0451c9 to fe0effe462cf851ec58677332fb8e02c\n",
      "Data columns (total 34 columns):\n",
      " #   Column                    Non-Null Count  Dtype         \n",
      "---  ------                    --------------  -----         \n",
      " 0   Unnamed: 0                16083 non-null  int64         \n",
      " 1   campaign_disc_ele         0 non-null      float64       \n",
      " 2   channel_sales             11870 non-null  object        \n",
      " 3   cons_12m                  16083 non-null  int64         \n",
      " 4   cons_gas_12m              16083 non-null  int64         \n",
      " 5   cons_last_month           16083 non-null  int64         \n",
      " 6   date_activ                16083 non-null  datetime64[ns]\n",
      " 7   date_end                  16081 non-null  datetime64[ns]\n",
      " 8   date_first_activ          3503 non-null   datetime64[ns]\n",
      " 9   date_modif_prod           15926 non-null  datetime64[ns]\n",
      " 10  date_renewal              16043 non-null  datetime64[ns]\n",
      " 11  forecast_base_bill_ele    3503 non-null   float64       \n",
      " 12  forecast_base_bill_year   3503 non-null   float64       \n",
      " 13  forecast_bill_12m         3503 non-null   float64       \n",
      " 14  forecast_cons             3503 non-null   float64       \n",
      " 15  forecast_cons_12m         16083 non-null  float64       \n",
      " 16  forecast_cons_year        16083 non-null  int64         \n",
      " 17  forecast_discount_energy  15957 non-null  float64       \n",
      " 18  forecast_meter_rent_12m   16083 non-null  float64       \n",
      " 19  forecast_price_energy_p1  15957 non-null  float64       \n",
      " 20  forecast_price_energy_p2  15957 non-null  float64       \n",
      " 21  forecast_price_pow_p1     15957 non-null  float64       \n",
      " 22  has_gas                   16083 non-null  object        \n",
      " 23  imp_cons                  16083 non-null  float64       \n",
      " 24  margin_gross_pow_ele      16070 non-null  float64       \n",
      " 25  margin_net_pow_ele        16070 non-null  float64       \n",
      " 26  nb_prod_act               16083 non-null  int64         \n",
      " 27  net_margin                16068 non-null  float64       \n",
      " 28  num_years_antig           16083 non-null  int64         \n",
      " 29  origin_up                 15996 non-null  object        \n",
      " 30  pow_max                   16080 non-null  float64       \n",
      " 31  isic_1l                   16083 non-null  object        \n",
      " 32  isic_2l                   16083 non-null  int64         \n",
      " 33  zip                       16083 non-null  int64         \n",
      "dtypes: datetime64[ns](5), float64(16), int64(9), object(4)\n",
      "memory usage: 4.3+ MB\n"
     ]
    }
   ],
   "source": [
    "train_sme.info()"
   ]
  },
  {
   "cell_type": "code",
   "execution_count": 6,
   "metadata": {},
   "outputs": [
    {
     "data": {
      "text/html": [
       "<div>\n",
       "<style scoped>\n",
       "    .dataframe tbody tr th:only-of-type {\n",
       "        vertical-align: middle;\n",
       "    }\n",
       "\n",
       "    .dataframe tbody tr th {\n",
       "        vertical-align: top;\n",
       "    }\n",
       "\n",
       "    .dataframe thead th {\n",
       "        text-align: right;\n",
       "    }\n",
       "</style>\n",
       "<table border=\"1\" class=\"dataframe\">\n",
       "  <thead>\n",
       "    <tr style=\"text-align: right;\">\n",
       "      <th></th>\n",
       "      <th>Unnamed: 0</th>\n",
       "      <th>campaign_disc_ele</th>\n",
       "      <th>channel_sales</th>\n",
       "      <th>cons_12m</th>\n",
       "      <th>cons_gas_12m</th>\n",
       "      <th>cons_last_month</th>\n",
       "      <th>date_activ</th>\n",
       "      <th>date_end</th>\n",
       "      <th>date_first_activ</th>\n",
       "      <th>date_modif_prod</th>\n",
       "      <th>...</th>\n",
       "      <th>margin_gross_pow_ele</th>\n",
       "      <th>margin_net_pow_ele</th>\n",
       "      <th>nb_prod_act</th>\n",
       "      <th>net_margin</th>\n",
       "      <th>num_years_antig</th>\n",
       "      <th>origin_up</th>\n",
       "      <th>pow_max</th>\n",
       "      <th>isic_1l</th>\n",
       "      <th>isic_2l</th>\n",
       "      <th>zip</th>\n",
       "    </tr>\n",
       "    <tr>\n",
       "      <th>id</th>\n",
       "      <th></th>\n",
       "      <th></th>\n",
       "      <th></th>\n",
       "      <th></th>\n",
       "      <th></th>\n",
       "      <th></th>\n",
       "      <th></th>\n",
       "      <th></th>\n",
       "      <th></th>\n",
       "      <th></th>\n",
       "      <th></th>\n",
       "      <th></th>\n",
       "      <th></th>\n",
       "      <th></th>\n",
       "      <th></th>\n",
       "      <th></th>\n",
       "      <th></th>\n",
       "      <th></th>\n",
       "      <th></th>\n",
       "      <th></th>\n",
       "      <th></th>\n",
       "    </tr>\n",
       "  </thead>\n",
       "  <tbody>\n",
       "    <tr>\n",
       "      <th>48ada52261e7cf58715202705a0451c9</th>\n",
       "      <td>0</td>\n",
       "      <td>NaN</td>\n",
       "      <td>lmkebamcaaclubfxadlmueccxoimlema</td>\n",
       "      <td>309275</td>\n",
       "      <td>0</td>\n",
       "      <td>10025</td>\n",
       "      <td>2012-11-07</td>\n",
       "      <td>2016-11-06</td>\n",
       "      <td>NaT</td>\n",
       "      <td>2012-11-07</td>\n",
       "      <td>...</td>\n",
       "      <td>-41.76</td>\n",
       "      <td>-41.76</td>\n",
       "      <td>1</td>\n",
       "      <td>1732.36</td>\n",
       "      <td>3</td>\n",
       "      <td>ldkssxwpmemidmecebumciepifcamkci</td>\n",
       "      <td>180.000</td>\n",
       "      <td>G</td>\n",
       "      <td>47</td>\n",
       "      <td>43877</td>\n",
       "    </tr>\n",
       "    <tr>\n",
       "      <th>24011ae4ebbe3035111d65fa7c15bc57</th>\n",
       "      <td>1</td>\n",
       "      <td>NaN</td>\n",
       "      <td>foosdfpfkusacimwkcsosbicdxkicaua</td>\n",
       "      <td>0</td>\n",
       "      <td>54946</td>\n",
       "      <td>0</td>\n",
       "      <td>2013-06-15</td>\n",
       "      <td>2016-06-15</td>\n",
       "      <td>NaT</td>\n",
       "      <td>NaT</td>\n",
       "      <td>...</td>\n",
       "      <td>25.44</td>\n",
       "      <td>25.44</td>\n",
       "      <td>2</td>\n",
       "      <td>678.99</td>\n",
       "      <td>3</td>\n",
       "      <td>lxidpiddsbxsbosboudacockeimpuepw</td>\n",
       "      <td>43.648</td>\n",
       "      <td>G</td>\n",
       "      <td>47</td>\n",
       "      <td>31395</td>\n",
       "    </tr>\n",
       "    <tr>\n",
       "      <th>23f9e0bddadb1d9c567b3c4576c8ac34</th>\n",
       "      <td>2</td>\n",
       "      <td>NaN</td>\n",
       "      <td>NaN</td>\n",
       "      <td>35446</td>\n",
       "      <td>0</td>\n",
       "      <td>4265</td>\n",
       "      <td>2009-10-26</td>\n",
       "      <td>2016-10-25</td>\n",
       "      <td>NaT</td>\n",
       "      <td>2009-10-26</td>\n",
       "      <td>...</td>\n",
       "      <td>27.44</td>\n",
       "      <td>27.44</td>\n",
       "      <td>1</td>\n",
       "      <td>40.23</td>\n",
       "      <td>6</td>\n",
       "      <td>kamkkxfxxuwbdslkwifmmcsiusiuosws</td>\n",
       "      <td>13.200</td>\n",
       "      <td>A</td>\n",
       "      <td>2</td>\n",
       "      <td>31395</td>\n",
       "    </tr>\n",
       "    <tr>\n",
       "      <th>0c14a4e90623d74951da665862147606</th>\n",
       "      <td>3</td>\n",
       "      <td>NaN</td>\n",
       "      <td>foosdfpfkusacimwkcsosbicdxkicaua</td>\n",
       "      <td>63442</td>\n",
       "      <td>0</td>\n",
       "      <td>10261</td>\n",
       "      <td>2012-05-15</td>\n",
       "      <td>2016-05-15</td>\n",
       "      <td>2012-05-15</td>\n",
       "      <td>2012-05-15</td>\n",
       "      <td>...</td>\n",
       "      <td>17.22</td>\n",
       "      <td>17.22</td>\n",
       "      <td>1</td>\n",
       "      <td>168.94</td>\n",
       "      <td>4</td>\n",
       "      <td>lxidpiddsbxsbosboudacockeimpuepw</td>\n",
       "      <td>10.390</td>\n",
       "      <td>F</td>\n",
       "      <td>41</td>\n",
       "      <td>31395</td>\n",
       "    </tr>\n",
       "    <tr>\n",
       "      <th>f2c6ef2fa0b1a52d02872832279081c0</th>\n",
       "      <td>4</td>\n",
       "      <td>NaN</td>\n",
       "      <td>ewpakwlliwisiwduibdlfmalxowmwpci</td>\n",
       "      <td>11354</td>\n",
       "      <td>0</td>\n",
       "      <td>992</td>\n",
       "      <td>2013-01-01</td>\n",
       "      <td>2017-01-01</td>\n",
       "      <td>NaT</td>\n",
       "      <td>2013-01-01</td>\n",
       "      <td>...</td>\n",
       "      <td>0.00</td>\n",
       "      <td>0.00</td>\n",
       "      <td>1</td>\n",
       "      <td>156.32</td>\n",
       "      <td>3</td>\n",
       "      <td>kamkkxfxxuwbdslkwifmmcsiusiuosws</td>\n",
       "      <td>13.200</td>\n",
       "      <td>L</td>\n",
       "      <td>68</td>\n",
       "      <td>31395</td>\n",
       "    </tr>\n",
       "  </tbody>\n",
       "</table>\n",
       "<p>5 rows × 34 columns</p>\n",
       "</div>"
      ],
      "text/plain": [
       "                                  Unnamed: 0  campaign_disc_ele  \\\n",
       "id                                                                \n",
       "48ada52261e7cf58715202705a0451c9           0                NaN   \n",
       "24011ae4ebbe3035111d65fa7c15bc57           1                NaN   \n",
       "23f9e0bddadb1d9c567b3c4576c8ac34           2                NaN   \n",
       "0c14a4e90623d74951da665862147606           3                NaN   \n",
       "f2c6ef2fa0b1a52d02872832279081c0           4                NaN   \n",
       "\n",
       "                                                     channel_sales  cons_12m  \\\n",
       "id                                                                             \n",
       "48ada52261e7cf58715202705a0451c9  lmkebamcaaclubfxadlmueccxoimlema    309275   \n",
       "24011ae4ebbe3035111d65fa7c15bc57  foosdfpfkusacimwkcsosbicdxkicaua         0   \n",
       "23f9e0bddadb1d9c567b3c4576c8ac34                               NaN     35446   \n",
       "0c14a4e90623d74951da665862147606  foosdfpfkusacimwkcsosbicdxkicaua     63442   \n",
       "f2c6ef2fa0b1a52d02872832279081c0  ewpakwlliwisiwduibdlfmalxowmwpci     11354   \n",
       "\n",
       "                                  cons_gas_12m  cons_last_month date_activ  \\\n",
       "id                                                                           \n",
       "48ada52261e7cf58715202705a0451c9             0            10025 2012-11-07   \n",
       "24011ae4ebbe3035111d65fa7c15bc57         54946                0 2013-06-15   \n",
       "23f9e0bddadb1d9c567b3c4576c8ac34             0             4265 2009-10-26   \n",
       "0c14a4e90623d74951da665862147606             0            10261 2012-05-15   \n",
       "f2c6ef2fa0b1a52d02872832279081c0             0              992 2013-01-01   \n",
       "\n",
       "                                   date_end date_first_activ date_modif_prod  \\\n",
       "id                                                                             \n",
       "48ada52261e7cf58715202705a0451c9 2016-11-06              NaT      2012-11-07   \n",
       "24011ae4ebbe3035111d65fa7c15bc57 2016-06-15              NaT             NaT   \n",
       "23f9e0bddadb1d9c567b3c4576c8ac34 2016-10-25              NaT      2009-10-26   \n",
       "0c14a4e90623d74951da665862147606 2016-05-15       2012-05-15      2012-05-15   \n",
       "f2c6ef2fa0b1a52d02872832279081c0 2017-01-01              NaT      2013-01-01   \n",
       "\n",
       "                                  ... margin_gross_pow_ele  \\\n",
       "id                                ...                        \n",
       "48ada52261e7cf58715202705a0451c9  ...               -41.76   \n",
       "24011ae4ebbe3035111d65fa7c15bc57  ...                25.44   \n",
       "23f9e0bddadb1d9c567b3c4576c8ac34  ...                27.44   \n",
       "0c14a4e90623d74951da665862147606  ...                17.22   \n",
       "f2c6ef2fa0b1a52d02872832279081c0  ...                 0.00   \n",
       "\n",
       "                                  margin_net_pow_ele  nb_prod_act  net_margin  \\\n",
       "id                                                                              \n",
       "48ada52261e7cf58715202705a0451c9              -41.76            1     1732.36   \n",
       "24011ae4ebbe3035111d65fa7c15bc57               25.44            2      678.99   \n",
       "23f9e0bddadb1d9c567b3c4576c8ac34               27.44            1       40.23   \n",
       "0c14a4e90623d74951da665862147606               17.22            1      168.94   \n",
       "f2c6ef2fa0b1a52d02872832279081c0                0.00            1      156.32   \n",
       "\n",
       "                                  num_years_antig  \\\n",
       "id                                                  \n",
       "48ada52261e7cf58715202705a0451c9                3   \n",
       "24011ae4ebbe3035111d65fa7c15bc57                3   \n",
       "23f9e0bddadb1d9c567b3c4576c8ac34                6   \n",
       "0c14a4e90623d74951da665862147606                4   \n",
       "f2c6ef2fa0b1a52d02872832279081c0                3   \n",
       "\n",
       "                                                         origin_up  pow_max  \\\n",
       "id                                                                            \n",
       "48ada52261e7cf58715202705a0451c9  ldkssxwpmemidmecebumciepifcamkci  180.000   \n",
       "24011ae4ebbe3035111d65fa7c15bc57  lxidpiddsbxsbosboudacockeimpuepw   43.648   \n",
       "23f9e0bddadb1d9c567b3c4576c8ac34  kamkkxfxxuwbdslkwifmmcsiusiuosws   13.200   \n",
       "0c14a4e90623d74951da665862147606  lxidpiddsbxsbosboudacockeimpuepw   10.390   \n",
       "f2c6ef2fa0b1a52d02872832279081c0  kamkkxfxxuwbdslkwifmmcsiusiuosws   13.200   \n",
       "\n",
       "                                  isic_1l  isic_2l    zip  \n",
       "id                                                         \n",
       "48ada52261e7cf58715202705a0451c9        G       47  43877  \n",
       "24011ae4ebbe3035111d65fa7c15bc57        G       47  31395  \n",
       "23f9e0bddadb1d9c567b3c4576c8ac34        A        2  31395  \n",
       "0c14a4e90623d74951da665862147606        F       41  31395  \n",
       "f2c6ef2fa0b1a52d02872832279081c0        L       68  31395  \n",
       "\n",
       "[5 rows x 34 columns]"
      ]
     },
     "execution_count": 6,
     "metadata": {},
     "output_type": "execute_result"
    }
   ],
   "source": [
    "train_sme.head()"
   ]
  },
  {
   "cell_type": "code",
   "execution_count": 7,
   "metadata": {},
   "outputs": [
    {
     "name": "stdout",
     "output_type": "stream",
     "text": [
      "<class 'pandas.core.frame.DataFrame'>\n",
      "Index: 16096 entries, 48ada52261e7cf58715202705a0451c9 to 563dde550fd624d7352f3de77c0cdfcd\n",
      "Data columns (total 1 columns):\n",
      " #   Column  Non-Null Count  Dtype\n",
      "---  ------  --------------  -----\n",
      " 0   churn   16096 non-null  int64\n",
      "dtypes: int64(1)\n",
      "memory usage: 251.5+ KB\n"
     ]
    }
   ],
   "source": [
    "train_target.info()"
   ]
  },
  {
   "cell_type": "code",
   "execution_count": 8,
   "metadata": {},
   "outputs": [
    {
     "data": {
      "text/html": [
       "<div>\n",
       "<style scoped>\n",
       "    .dataframe tbody tr th:only-of-type {\n",
       "        vertical-align: middle;\n",
       "    }\n",
       "\n",
       "    .dataframe tbody tr th {\n",
       "        vertical-align: top;\n",
       "    }\n",
       "\n",
       "    .dataframe thead th {\n",
       "        text-align: right;\n",
       "    }\n",
       "</style>\n",
       "<table border=\"1\" class=\"dataframe\">\n",
       "  <thead>\n",
       "    <tr style=\"text-align: right;\">\n",
       "      <th></th>\n",
       "      <th>churn</th>\n",
       "    </tr>\n",
       "    <tr>\n",
       "      <th>id</th>\n",
       "      <th></th>\n",
       "    </tr>\n",
       "  </thead>\n",
       "  <tbody>\n",
       "    <tr>\n",
       "      <th>48ada52261e7cf58715202705a0451c9</th>\n",
       "      <td>0</td>\n",
       "    </tr>\n",
       "    <tr>\n",
       "      <th>24011ae4ebbe3035111d65fa7c15bc57</th>\n",
       "      <td>1</td>\n",
       "    </tr>\n",
       "    <tr>\n",
       "      <th>d29c2c54acc38ff3c0614d0a653813dd</th>\n",
       "      <td>0</td>\n",
       "    </tr>\n",
       "    <tr>\n",
       "      <th>764c75f661154dac3a6c254cd082ea7d</th>\n",
       "      <td>0</td>\n",
       "    </tr>\n",
       "    <tr>\n",
       "      <th>bba03439a292a1e166f80264c16191cb</th>\n",
       "      <td>0</td>\n",
       "    </tr>\n",
       "  </tbody>\n",
       "</table>\n",
       "</div>"
      ],
      "text/plain": [
       "                                  churn\n",
       "id                                     \n",
       "48ada52261e7cf58715202705a0451c9      0\n",
       "24011ae4ebbe3035111d65fa7c15bc57      1\n",
       "d29c2c54acc38ff3c0614d0a653813dd      0\n",
       "764c75f661154dac3a6c254cd082ea7d      0\n",
       "bba03439a292a1e166f80264c16191cb      0"
      ]
     },
     "execution_count": 8,
     "metadata": {},
     "output_type": "execute_result"
    }
   ],
   "source": [
    "train_target.head()"
   ]
  },
  {
   "cell_type": "markdown",
   "metadata": {},
   "source": [
    "# 2. Preparación de datos"
   ]
  },
  {
   "cell_type": "markdown",
   "metadata": {},
   "source": [
    "## 2.1 Pre-procesado de datos"
   ]
  },
  {
   "cell_type": "markdown",
   "metadata": {},
   "source": [
    "Comenzaremos el pre-procesado de datos eliminando aquellas columnas que no aportan información o que no vamos a usar en nuestro análisis.\n",
    "\n",
    "En primer lugar, la columna `campaign_disc_ele` de la tabla `train_sme` tiene todos sus valores ausentes, por lo que podemos proceder a su eliminación. Por otro lado, la columna `Unnamed: 0` de esta misma tabla es un índice numérico que no nos es de ninguna utilidad al disponer de la columna `id`. También la eliminamos."
   ]
  },
  {
   "cell_type": "code",
   "execution_count": 9,
   "metadata": {},
   "outputs": [],
   "source": [
    "train_sme=train_sme.drop(columns=['campaign_disc_ele', 'Unnamed: 0'])"
   ]
  },
  {
   "cell_type": "markdown",
   "metadata": {},
   "source": [
    "A continuación, nos fijamos en la tabla `train_price` y en su columna `price_date`. Dicha columna almacena la fecha para la cual se proporcionan los precios almacenados en el resto de columnas.\n",
    "\n",
    "Por un lado, se va a dar el caso de que, para algunos clientes, no dispongamos de la información de los precios en toda la serie histórica (año 2015). Veámoslo:"
   ]
  },
  {
   "cell_type": "code",
   "execution_count": 10,
   "metadata": {},
   "outputs": [
    {
     "data": {
      "text/html": [
       "<div>\n",
       "<style scoped>\n",
       "    .dataframe tbody tr th:only-of-type {\n",
       "        vertical-align: middle;\n",
       "    }\n",
       "\n",
       "    .dataframe tbody tr th {\n",
       "        vertical-align: top;\n",
       "    }\n",
       "\n",
       "    .dataframe thead th {\n",
       "        text-align: right;\n",
       "    }\n",
       "</style>\n",
       "<table border=\"1\" class=\"dataframe\">\n",
       "  <thead>\n",
       "    <tr style=\"text-align: right;\">\n",
       "      <th></th>\n",
       "      <th>price_date</th>\n",
       "      <th>price_p1_var</th>\n",
       "      <th>price_p2_var</th>\n",
       "      <th>price_p3_var</th>\n",
       "      <th>price_p1_fix</th>\n",
       "      <th>price_p2_fix</th>\n",
       "      <th>price_p3_fix</th>\n",
       "    </tr>\n",
       "    <tr>\n",
       "      <th>id</th>\n",
       "      <th></th>\n",
       "      <th></th>\n",
       "      <th></th>\n",
       "      <th></th>\n",
       "      <th></th>\n",
       "      <th></th>\n",
       "      <th></th>\n",
       "    </tr>\n",
       "  </thead>\n",
       "  <tbody>\n",
       "    <tr>\n",
       "      <th>ef716222bbd97a8bdfcbb831e3575560</th>\n",
       "      <td>2015-04-01</td>\n",
       "      <td>NaN</td>\n",
       "      <td>NaN</td>\n",
       "      <td>NaN</td>\n",
       "      <td>NaN</td>\n",
       "      <td>NaN</td>\n",
       "      <td>NaN</td>\n",
       "    </tr>\n",
       "    <tr>\n",
       "      <th>0f5231100b2febab862f8dd8eaab3f43</th>\n",
       "      <td>2015-06-01</td>\n",
       "      <td>NaN</td>\n",
       "      <td>NaN</td>\n",
       "      <td>NaN</td>\n",
       "      <td>NaN</td>\n",
       "      <td>NaN</td>\n",
       "      <td>NaN</td>\n",
       "    </tr>\n",
       "    <tr>\n",
       "      <th>2f93639de582fadfbe3e86ce1c8d8f35</th>\n",
       "      <td>2015-06-01</td>\n",
       "      <td>NaN</td>\n",
       "      <td>NaN</td>\n",
       "      <td>NaN</td>\n",
       "      <td>NaN</td>\n",
       "      <td>NaN</td>\n",
       "      <td>NaN</td>\n",
       "    </tr>\n",
       "    <tr>\n",
       "      <th>f83c1ab1ca1d1802bb1df4d72820243c</th>\n",
       "      <td>2015-06-01</td>\n",
       "      <td>NaN</td>\n",
       "      <td>NaN</td>\n",
       "      <td>NaN</td>\n",
       "      <td>NaN</td>\n",
       "      <td>NaN</td>\n",
       "      <td>NaN</td>\n",
       "    </tr>\n",
       "    <tr>\n",
       "      <th>3076c6d4a060e12a049d1700d9b09cf3</th>\n",
       "      <td>2015-06-01</td>\n",
       "      <td>NaN</td>\n",
       "      <td>NaN</td>\n",
       "      <td>NaN</td>\n",
       "      <td>NaN</td>\n",
       "      <td>NaN</td>\n",
       "      <td>NaN</td>\n",
       "    </tr>\n",
       "    <tr>\n",
       "      <th>...</th>\n",
       "      <td>...</td>\n",
       "      <td>...</td>\n",
       "      <td>...</td>\n",
       "      <td>...</td>\n",
       "      <td>...</td>\n",
       "      <td>...</td>\n",
       "      <td>...</td>\n",
       "    </tr>\n",
       "    <tr>\n",
       "      <th>2dc2c9a9f6e6896d9a07d7bcbb9d0ce9</th>\n",
       "      <td>2015-06-01</td>\n",
       "      <td>NaN</td>\n",
       "      <td>NaN</td>\n",
       "      <td>NaN</td>\n",
       "      <td>NaN</td>\n",
       "      <td>NaN</td>\n",
       "      <td>NaN</td>\n",
       "    </tr>\n",
       "    <tr>\n",
       "      <th>e4053a0ad6c55e4665e8e9adb9f75db5</th>\n",
       "      <td>2015-03-01</td>\n",
       "      <td>NaN</td>\n",
       "      <td>NaN</td>\n",
       "      <td>NaN</td>\n",
       "      <td>NaN</td>\n",
       "      <td>NaN</td>\n",
       "      <td>NaN</td>\n",
       "    </tr>\n",
       "    <tr>\n",
       "      <th>1a788ca3bfb16ce443dcf7d75e702b5d</th>\n",
       "      <td>2015-06-01</td>\n",
       "      <td>NaN</td>\n",
       "      <td>NaN</td>\n",
       "      <td>NaN</td>\n",
       "      <td>NaN</td>\n",
       "      <td>NaN</td>\n",
       "      <td>NaN</td>\n",
       "    </tr>\n",
       "    <tr>\n",
       "      <th>1a788ca3bfb16ce443dcf7d75e702b5d</th>\n",
       "      <td>2015-07-01</td>\n",
       "      <td>NaN</td>\n",
       "      <td>NaN</td>\n",
       "      <td>NaN</td>\n",
       "      <td>NaN</td>\n",
       "      <td>NaN</td>\n",
       "      <td>NaN</td>\n",
       "    </tr>\n",
       "    <tr>\n",
       "      <th>d625f9e90d4af9986197444361e99235</th>\n",
       "      <td>2015-05-01</td>\n",
       "      <td>NaN</td>\n",
       "      <td>NaN</td>\n",
       "      <td>NaN</td>\n",
       "      <td>NaN</td>\n",
       "      <td>NaN</td>\n",
       "      <td>NaN</td>\n",
       "    </tr>\n",
       "  </tbody>\n",
       "</table>\n",
       "<p>1359 rows × 7 columns</p>\n",
       "</div>"
      ],
      "text/plain": [
       "                                 price_date  price_p1_var  price_p2_var  \\\n",
       "id                                                                        \n",
       "ef716222bbd97a8bdfcbb831e3575560 2015-04-01           NaN           NaN   \n",
       "0f5231100b2febab862f8dd8eaab3f43 2015-06-01           NaN           NaN   \n",
       "2f93639de582fadfbe3e86ce1c8d8f35 2015-06-01           NaN           NaN   \n",
       "f83c1ab1ca1d1802bb1df4d72820243c 2015-06-01           NaN           NaN   \n",
       "3076c6d4a060e12a049d1700d9b09cf3 2015-06-01           NaN           NaN   \n",
       "...                                     ...           ...           ...   \n",
       "2dc2c9a9f6e6896d9a07d7bcbb9d0ce9 2015-06-01           NaN           NaN   \n",
       "e4053a0ad6c55e4665e8e9adb9f75db5 2015-03-01           NaN           NaN   \n",
       "1a788ca3bfb16ce443dcf7d75e702b5d 2015-06-01           NaN           NaN   \n",
       "1a788ca3bfb16ce443dcf7d75e702b5d 2015-07-01           NaN           NaN   \n",
       "d625f9e90d4af9986197444361e99235 2015-05-01           NaN           NaN   \n",
       "\n",
       "                                  price_p3_var  price_p1_fix  price_p2_fix  \\\n",
       "id                                                                           \n",
       "ef716222bbd97a8bdfcbb831e3575560           NaN           NaN           NaN   \n",
       "0f5231100b2febab862f8dd8eaab3f43           NaN           NaN           NaN   \n",
       "2f93639de582fadfbe3e86ce1c8d8f35           NaN           NaN           NaN   \n",
       "f83c1ab1ca1d1802bb1df4d72820243c           NaN           NaN           NaN   \n",
       "3076c6d4a060e12a049d1700d9b09cf3           NaN           NaN           NaN   \n",
       "...                                        ...           ...           ...   \n",
       "2dc2c9a9f6e6896d9a07d7bcbb9d0ce9           NaN           NaN           NaN   \n",
       "e4053a0ad6c55e4665e8e9adb9f75db5           NaN           NaN           NaN   \n",
       "1a788ca3bfb16ce443dcf7d75e702b5d           NaN           NaN           NaN   \n",
       "1a788ca3bfb16ce443dcf7d75e702b5d           NaN           NaN           NaN   \n",
       "d625f9e90d4af9986197444361e99235           NaN           NaN           NaN   \n",
       "\n",
       "                                  price_p3_fix  \n",
       "id                                              \n",
       "ef716222bbd97a8bdfcbb831e3575560           NaN  \n",
       "0f5231100b2febab862f8dd8eaab3f43           NaN  \n",
       "2f93639de582fadfbe3e86ce1c8d8f35           NaN  \n",
       "f83c1ab1ca1d1802bb1df4d72820243c           NaN  \n",
       "3076c6d4a060e12a049d1700d9b09cf3           NaN  \n",
       "...                                        ...  \n",
       "2dc2c9a9f6e6896d9a07d7bcbb9d0ce9           NaN  \n",
       "e4053a0ad6c55e4665e8e9adb9f75db5           NaN  \n",
       "1a788ca3bfb16ce443dcf7d75e702b5d           NaN  \n",
       "1a788ca3bfb16ce443dcf7d75e702b5d           NaN  \n",
       "d625f9e90d4af9986197444361e99235           NaN  \n",
       "\n",
       "[1359 rows x 7 columns]"
      ]
     },
     "execution_count": 10,
     "metadata": {},
     "output_type": "execute_result"
    }
   ],
   "source": [
    "train_price[train_price.isna().any(axis=1)]"
   ]
  },
  {
   "cell_type": "markdown",
   "metadata": {},
   "source": [
    "Por lo tanto, deberemos eliminar las filas que contengan nulos, ya que no proporcionan información útil. Además, y en parte relacionado con lo que acabamos de ver, vamos a condensar la información de precios en una única entrada por `id`, calculando la mediana. Puede ser un buen descriptor asociado al fenómeno de *churn* que estamos estudiando. Es por ello que no necesitaremos esta columna.\n",
    "\n",
    "De este modo, podemos aplicar ambas operaciones en una misma sentencia: eliminamos las filas con nulos y la columna `price_date`."
   ]
  },
  {
   "cell_type": "code",
   "execution_count": 11,
   "metadata": {},
   "outputs": [],
   "source": [
    "train_price=train_price.dropna().drop(columns=['price_date'])"
   ]
  },
  {
   "cell_type": "markdown",
   "metadata": {},
   "source": [
    "Ahora ya sólo tenemos que aplicar el agrupado y calcular la mediana. Igual que hemos hecho hasta ahora, nos aseguramos de que el `id` sigue almacenándose como índice de la tabla."
   ]
  },
  {
   "cell_type": "code",
   "execution_count": 12,
   "metadata": {},
   "outputs": [],
   "source": [
    "train_price=train_price.groupby('id', as_index=True).median()"
   ]
  },
  {
   "cell_type": "markdown",
   "metadata": {},
   "source": [
    "Por último, la variable `isic_2l` de la tabla `train_sme` contiene información detallada de la actividad económica de los clientes. Sin embargo, parecen demasiadas características diferentes como para que puedan suponer un problema en la fase de modelado (dependiendo del algoritmo que escojamos, podría ser necesario recodificar la variable como variables *dummy*, y nos introduciría un montón de variables adicionales)."
   ]
  },
  {
   "cell_type": "code",
   "execution_count": 13,
   "metadata": {},
   "outputs": [],
   "source": [
    "train_sme=train_sme.drop(columns='isic_2l')"
   ]
  },
  {
   "cell_type": "markdown",
   "metadata": {},
   "source": [
    "A continuación, vamos a asegurarnos de que no tenemos duplicados en ninguna de nuestras tres tablas"
   ]
  },
  {
   "cell_type": "code",
   "execution_count": 14,
   "metadata": {},
   "outputs": [
    {
     "data": {
      "text/plain": [
       "0"
      ]
     },
     "execution_count": 14,
     "metadata": {},
     "output_type": "execute_result"
    }
   ],
   "source": [
    "np.sum(train_price.index.duplicated())"
   ]
  },
  {
   "cell_type": "code",
   "execution_count": 15,
   "metadata": {},
   "outputs": [
    {
     "data": {
      "text/plain": [
       "0"
      ]
     },
     "execution_count": 15,
     "metadata": {},
     "output_type": "execute_result"
    }
   ],
   "source": [
    "np.sum(train_sme.index.duplicated())"
   ]
  },
  {
   "cell_type": "code",
   "execution_count": 16,
   "metadata": {},
   "outputs": [
    {
     "data": {
      "text/plain": [
       "0"
      ]
     },
     "execution_count": 16,
     "metadata": {},
     "output_type": "execute_result"
    }
   ],
   "source": [
    "np.sum(train_target.index.duplicated())"
   ]
  },
  {
   "cell_type": "markdown",
   "metadata": {},
   "source": [
    "Una vez hecho esto, podemos hacer un *inner join* de nuestras tablas para generar un único conjunto de datos."
   ]
  },
  {
   "cell_type": "code",
   "execution_count": 17,
   "metadata": {},
   "outputs": [],
   "source": [
    "train_df=pd.merge(train_price, train_sme, on='id')\n",
    "train_df=pd.merge(train_df, train_target, on='id')"
   ]
  },
  {
   "cell_type": "markdown",
   "metadata": {},
   "source": [
    "Examinamos el *DataFrame* final:"
   ]
  },
  {
   "cell_type": "code",
   "execution_count": 18,
   "metadata": {},
   "outputs": [
    {
     "data": {
      "text/html": [
       "<div>\n",
       "<style scoped>\n",
       "    .dataframe tbody tr th:only-of-type {\n",
       "        vertical-align: middle;\n",
       "    }\n",
       "\n",
       "    .dataframe tbody tr th {\n",
       "        vertical-align: top;\n",
       "    }\n",
       "\n",
       "    .dataframe thead th {\n",
       "        text-align: right;\n",
       "    }\n",
       "</style>\n",
       "<table border=\"1\" class=\"dataframe\">\n",
       "  <thead>\n",
       "    <tr style=\"text-align: right;\">\n",
       "      <th></th>\n",
       "      <th>price_p1_var</th>\n",
       "      <th>price_p2_var</th>\n",
       "      <th>price_p3_var</th>\n",
       "      <th>price_p1_fix</th>\n",
       "      <th>price_p2_fix</th>\n",
       "      <th>price_p3_fix</th>\n",
       "      <th>channel_sales</th>\n",
       "      <th>cons_12m</th>\n",
       "      <th>cons_gas_12m</th>\n",
       "      <th>cons_last_month</th>\n",
       "      <th>...</th>\n",
       "      <th>margin_gross_pow_ele</th>\n",
       "      <th>margin_net_pow_ele</th>\n",
       "      <th>nb_prod_act</th>\n",
       "      <th>net_margin</th>\n",
       "      <th>num_years_antig</th>\n",
       "      <th>origin_up</th>\n",
       "      <th>pow_max</th>\n",
       "      <th>isic_1l</th>\n",
       "      <th>zip</th>\n",
       "      <th>churn</th>\n",
       "    </tr>\n",
       "    <tr>\n",
       "      <th>id</th>\n",
       "      <th></th>\n",
       "      <th></th>\n",
       "      <th></th>\n",
       "      <th></th>\n",
       "      <th></th>\n",
       "      <th></th>\n",
       "      <th></th>\n",
       "      <th></th>\n",
       "      <th></th>\n",
       "      <th></th>\n",
       "      <th></th>\n",
       "      <th></th>\n",
       "      <th></th>\n",
       "      <th></th>\n",
       "      <th></th>\n",
       "      <th></th>\n",
       "      <th></th>\n",
       "      <th></th>\n",
       "      <th></th>\n",
       "      <th></th>\n",
       "      <th></th>\n",
       "    </tr>\n",
       "  </thead>\n",
       "  <tbody>\n",
       "    <tr>\n",
       "      <th>0002203ffbb812588b632b9e628cc38d</th>\n",
       "      <td>0.126098</td>\n",
       "      <td>0.103975</td>\n",
       "      <td>0.073719</td>\n",
       "      <td>40.728885</td>\n",
       "      <td>24.437330</td>\n",
       "      <td>16.291555</td>\n",
       "      <td>foosdfpfkusacimwkcsosbicdxkicaua</td>\n",
       "      <td>22034</td>\n",
       "      <td>0</td>\n",
       "      <td>3084</td>\n",
       "      <td>...</td>\n",
       "      <td>43.08</td>\n",
       "      <td>43.08</td>\n",
       "      <td>1</td>\n",
       "      <td>81.42</td>\n",
       "      <td>6</td>\n",
       "      <td>kamkkxfxxuwbdslkwifmmcsiusiuosws</td>\n",
       "      <td>17.250</td>\n",
       "      <td>H</td>\n",
       "      <td>25182</td>\n",
       "      <td>0</td>\n",
       "    </tr>\n",
       "    <tr>\n",
       "      <th>0004351ebdd665e6ee664792efc4fd13</th>\n",
       "      <td>0.148047</td>\n",
       "      <td>0.000000</td>\n",
       "      <td>0.000000</td>\n",
       "      <td>44.444710</td>\n",
       "      <td>0.000000</td>\n",
       "      <td>0.000000</td>\n",
       "      <td>NaN</td>\n",
       "      <td>4060</td>\n",
       "      <td>0</td>\n",
       "      <td>0</td>\n",
       "      <td>...</td>\n",
       "      <td>24.42</td>\n",
       "      <td>24.42</td>\n",
       "      <td>1</td>\n",
       "      <td>61.58</td>\n",
       "      <td>6</td>\n",
       "      <td>kamkkxfxxuwbdslkwifmmcsiusiuosws</td>\n",
       "      <td>13.200</td>\n",
       "      <td>F</td>\n",
       "      <td>33779</td>\n",
       "      <td>0</td>\n",
       "    </tr>\n",
       "    <tr>\n",
       "      <th>0010bcc39e42b3c2131ed2ce55246e3c</th>\n",
       "      <td>0.201280</td>\n",
       "      <td>0.000000</td>\n",
       "      <td>0.000000</td>\n",
       "      <td>45.944710</td>\n",
       "      <td>0.000000</td>\n",
       "      <td>0.000000</td>\n",
       "      <td>usilxuppasemubllopkaafesmlibmsdf</td>\n",
       "      <td>7440</td>\n",
       "      <td>0</td>\n",
       "      <td>1062</td>\n",
       "      <td>...</td>\n",
       "      <td>38.58</td>\n",
       "      <td>38.58</td>\n",
       "      <td>2</td>\n",
       "      <td>81.61</td>\n",
       "      <td>3</td>\n",
       "      <td>lxidpiddsbxsbosboudacockeimpuepw</td>\n",
       "      <td>13.856</td>\n",
       "      <td>M</td>\n",
       "      <td>9219</td>\n",
       "      <td>0</td>\n",
       "    </tr>\n",
       "    <tr>\n",
       "      <th>0010ee3855fdea87602a5b7aba8e42de</th>\n",
       "      <td>0.122157</td>\n",
       "      <td>0.100029</td>\n",
       "      <td>0.069027</td>\n",
       "      <td>40.647429</td>\n",
       "      <td>24.388455</td>\n",
       "      <td>16.258972</td>\n",
       "      <td>lmkebamcaaclubfxadlmueccxoimlema</td>\n",
       "      <td>4199490</td>\n",
       "      <td>728810</td>\n",
       "      <td>456462</td>\n",
       "      <td>...</td>\n",
       "      <td>-2.80</td>\n",
       "      <td>-2.80</td>\n",
       "      <td>2</td>\n",
       "      <td>897.08</td>\n",
       "      <td>6</td>\n",
       "      <td>kamkkxfxxuwbdslkwifmmcsiusiuosws</td>\n",
       "      <td>33.000</td>\n",
       "      <td>M</td>\n",
       "      <td>42240</td>\n",
       "      <td>0</td>\n",
       "    </tr>\n",
       "    <tr>\n",
       "      <th>00114d74e963e47177db89bc70108537</th>\n",
       "      <td>0.149434</td>\n",
       "      <td>0.000000</td>\n",
       "      <td>0.000000</td>\n",
       "      <td>44.266930</td>\n",
       "      <td>0.000000</td>\n",
       "      <td>0.000000</td>\n",
       "      <td>ewpakwlliwisiwduibdlfmalxowmwpci</td>\n",
       "      <td>11272</td>\n",
       "      <td>0</td>\n",
       "      <td>0</td>\n",
       "      <td>...</td>\n",
       "      <td>29.76</td>\n",
       "      <td>29.76</td>\n",
       "      <td>1</td>\n",
       "      <td>157.99</td>\n",
       "      <td>6</td>\n",
       "      <td>kamkkxfxxuwbdslkwifmmcsiusiuosws</td>\n",
       "      <td>13.200</td>\n",
       "      <td>H</td>\n",
       "      <td>33519</td>\n",
       "      <td>0</td>\n",
       "    </tr>\n",
       "  </tbody>\n",
       "</table>\n",
       "<p>5 rows × 38 columns</p>\n",
       "</div>"
      ],
      "text/plain": [
       "                                  price_p1_var  price_p2_var  price_p3_var  \\\n",
       "id                                                                           \n",
       "0002203ffbb812588b632b9e628cc38d      0.126098      0.103975      0.073719   \n",
       "0004351ebdd665e6ee664792efc4fd13      0.148047      0.000000      0.000000   \n",
       "0010bcc39e42b3c2131ed2ce55246e3c      0.201280      0.000000      0.000000   \n",
       "0010ee3855fdea87602a5b7aba8e42de      0.122157      0.100029      0.069027   \n",
       "00114d74e963e47177db89bc70108537      0.149434      0.000000      0.000000   \n",
       "\n",
       "                                  price_p1_fix  price_p2_fix  price_p3_fix  \\\n",
       "id                                                                           \n",
       "0002203ffbb812588b632b9e628cc38d     40.728885     24.437330     16.291555   \n",
       "0004351ebdd665e6ee664792efc4fd13     44.444710      0.000000      0.000000   \n",
       "0010bcc39e42b3c2131ed2ce55246e3c     45.944710      0.000000      0.000000   \n",
       "0010ee3855fdea87602a5b7aba8e42de     40.647429     24.388455     16.258972   \n",
       "00114d74e963e47177db89bc70108537     44.266930      0.000000      0.000000   \n",
       "\n",
       "                                                     channel_sales  cons_12m  \\\n",
       "id                                                                             \n",
       "0002203ffbb812588b632b9e628cc38d  foosdfpfkusacimwkcsosbicdxkicaua     22034   \n",
       "0004351ebdd665e6ee664792efc4fd13                               NaN      4060   \n",
       "0010bcc39e42b3c2131ed2ce55246e3c  usilxuppasemubllopkaafesmlibmsdf      7440   \n",
       "0010ee3855fdea87602a5b7aba8e42de  lmkebamcaaclubfxadlmueccxoimlema   4199490   \n",
       "00114d74e963e47177db89bc70108537  ewpakwlliwisiwduibdlfmalxowmwpci     11272   \n",
       "\n",
       "                                  cons_gas_12m  cons_last_month  ...  \\\n",
       "id                                                               ...   \n",
       "0002203ffbb812588b632b9e628cc38d             0             3084  ...   \n",
       "0004351ebdd665e6ee664792efc4fd13             0                0  ...   \n",
       "0010bcc39e42b3c2131ed2ce55246e3c             0             1062  ...   \n",
       "0010ee3855fdea87602a5b7aba8e42de        728810           456462  ...   \n",
       "00114d74e963e47177db89bc70108537             0                0  ...   \n",
       "\n",
       "                                 margin_gross_pow_ele margin_net_pow_ele  \\\n",
       "id                                                                         \n",
       "0002203ffbb812588b632b9e628cc38d                43.08              43.08   \n",
       "0004351ebdd665e6ee664792efc4fd13                24.42              24.42   \n",
       "0010bcc39e42b3c2131ed2ce55246e3c                38.58              38.58   \n",
       "0010ee3855fdea87602a5b7aba8e42de                -2.80              -2.80   \n",
       "00114d74e963e47177db89bc70108537                29.76              29.76   \n",
       "\n",
       "                                 nb_prod_act net_margin num_years_antig  \\\n",
       "id                                                                        \n",
       "0002203ffbb812588b632b9e628cc38d           1      81.42               6   \n",
       "0004351ebdd665e6ee664792efc4fd13           1      61.58               6   \n",
       "0010bcc39e42b3c2131ed2ce55246e3c           2      81.61               3   \n",
       "0010ee3855fdea87602a5b7aba8e42de           2     897.08               6   \n",
       "00114d74e963e47177db89bc70108537           1     157.99               6   \n",
       "\n",
       "                                                         origin_up  pow_max  \\\n",
       "id                                                                            \n",
       "0002203ffbb812588b632b9e628cc38d  kamkkxfxxuwbdslkwifmmcsiusiuosws   17.250   \n",
       "0004351ebdd665e6ee664792efc4fd13  kamkkxfxxuwbdslkwifmmcsiusiuosws   13.200   \n",
       "0010bcc39e42b3c2131ed2ce55246e3c  lxidpiddsbxsbosboudacockeimpuepw   13.856   \n",
       "0010ee3855fdea87602a5b7aba8e42de  kamkkxfxxuwbdslkwifmmcsiusiuosws   33.000   \n",
       "00114d74e963e47177db89bc70108537  kamkkxfxxuwbdslkwifmmcsiusiuosws   13.200   \n",
       "\n",
       "                                  isic_1l    zip  churn  \n",
       "id                                                       \n",
       "0002203ffbb812588b632b9e628cc38d        H  25182      0  \n",
       "0004351ebdd665e6ee664792efc4fd13        F  33779      0  \n",
       "0010bcc39e42b3c2131ed2ce55246e3c        M   9219      0  \n",
       "0010ee3855fdea87602a5b7aba8e42de        M  42240      0  \n",
       "00114d74e963e47177db89bc70108537        H  33519      0  \n",
       "\n",
       "[5 rows x 38 columns]"
      ]
     },
     "execution_count": 18,
     "metadata": {},
     "output_type": "execute_result"
    }
   ],
   "source": [
    "train_df.head()"
   ]
  },
  {
   "cell_type": "code",
   "execution_count": 19,
   "metadata": {},
   "outputs": [
    {
     "data": {
      "text/plain": [
       "(16081, 38)"
      ]
     },
     "execution_count": 19,
     "metadata": {},
     "output_type": "execute_result"
    }
   ],
   "source": [
    "train_df.shape"
   ]
  },
  {
   "cell_type": "markdown",
   "metadata": {},
   "source": [
    "## 2.2 Análisis Exploratorio de Datos"
   ]
  },
  {
   "cell_type": "markdown",
   "metadata": {},
   "source": [
    "Comenzaremos este análisis exploratorio de datos mostrando los estadísticos más relevantes para cada una de nuestras variables.\n",
    "\n",
    "Para que el método `describe` genere únicamente los estadísticos necesarios, filtramos y tratamos cada tipo de variable por su lado."
   ]
  },
  {
   "cell_type": "markdown",
   "metadata": {},
   "source": [
    "En primer lugar, las variables numéricas."
   ]
  },
  {
   "cell_type": "code",
   "execution_count": 20,
   "metadata": {},
   "outputs": [
    {
     "data": {
      "text/html": [
       "<div>\n",
       "<style scoped>\n",
       "    .dataframe tbody tr th:only-of-type {\n",
       "        vertical-align: middle;\n",
       "    }\n",
       "\n",
       "    .dataframe tbody tr th {\n",
       "        vertical-align: top;\n",
       "    }\n",
       "\n",
       "    .dataframe thead th {\n",
       "        text-align: right;\n",
       "    }\n",
       "</style>\n",
       "<table border=\"1\" class=\"dataframe\">\n",
       "  <thead>\n",
       "    <tr style=\"text-align: right;\">\n",
       "      <th></th>\n",
       "      <th>price_p1_var</th>\n",
       "      <th>price_p2_var</th>\n",
       "      <th>price_p3_var</th>\n",
       "      <th>price_p1_fix</th>\n",
       "      <th>price_p2_fix</th>\n",
       "      <th>price_p3_fix</th>\n",
       "      <th>cons_12m</th>\n",
       "      <th>cons_gas_12m</th>\n",
       "      <th>cons_last_month</th>\n",
       "      <th>forecast_base_bill_ele</th>\n",
       "      <th>...</th>\n",
       "      <th>forecast_price_pow_p1</th>\n",
       "      <th>imp_cons</th>\n",
       "      <th>margin_gross_pow_ele</th>\n",
       "      <th>margin_net_pow_ele</th>\n",
       "      <th>nb_prod_act</th>\n",
       "      <th>net_margin</th>\n",
       "      <th>num_years_antig</th>\n",
       "      <th>pow_max</th>\n",
       "      <th>zip</th>\n",
       "      <th>churn</th>\n",
       "    </tr>\n",
       "  </thead>\n",
       "  <tbody>\n",
       "    <tr>\n",
       "      <th>count</th>\n",
       "      <td>16081.000000</td>\n",
       "      <td>16081.000000</td>\n",
       "      <td>16081.000000</td>\n",
       "      <td>16081.000000</td>\n",
       "      <td>16081.000000</td>\n",
       "      <td>16081.000000</td>\n",
       "      <td>1.608100e+04</td>\n",
       "      <td>1.608100e+04</td>\n",
       "      <td>1.608100e+04</td>\n",
       "      <td>3502.000000</td>\n",
       "      <td>...</td>\n",
       "      <td>15957.000000</td>\n",
       "      <td>16081.000000</td>\n",
       "      <td>16068.000000</td>\n",
       "      <td>16068.000000</td>\n",
       "      <td>16081.000000</td>\n",
       "      <td>16066.000000</td>\n",
       "      <td>16081.000000</td>\n",
       "      <td>16078.000000</td>\n",
       "      <td>16081.000000</td>\n",
       "      <td>16081.000000</td>\n",
       "    </tr>\n",
       "    <tr>\n",
       "      <th>mean</th>\n",
       "      <td>0.143152</td>\n",
       "      <td>0.054872</td>\n",
       "      <td>0.030752</td>\n",
       "      <td>43.339673</td>\n",
       "      <td>10.691439</td>\n",
       "      <td>6.450040</td>\n",
       "      <td>1.948840e+05</td>\n",
       "      <td>3.191807e+04</td>\n",
       "      <td>1.947393e+04</td>\n",
       "      <td>336.290029</td>\n",
       "      <td>...</td>\n",
       "      <td>43.535796</td>\n",
       "      <td>196.224474</td>\n",
       "      <td>22.466121</td>\n",
       "      <td>21.463228</td>\n",
       "      <td>1.347988</td>\n",
       "      <td>217.988929</td>\n",
       "      <td>5.030035</td>\n",
       "      <td>20.599717</td>\n",
       "      <td>25891.936509</td>\n",
       "      <td>0.098688</td>\n",
       "    </tr>\n",
       "    <tr>\n",
       "      <th>std</th>\n",
       "      <td>0.024348</td>\n",
       "      <td>0.050489</td>\n",
       "      <td>0.036383</td>\n",
       "      <td>5.354257</td>\n",
       "      <td>12.851369</td>\n",
       "      <td>7.777794</td>\n",
       "      <td>6.797872e+05</td>\n",
       "      <td>1.776603e+05</td>\n",
       "      <td>8.239310e+04</td>\n",
       "      <td>649.857338</td>\n",
       "      <td>...</td>\n",
       "      <td>5.201248</td>\n",
       "      <td>494.559101</td>\n",
       "      <td>23.708404</td>\n",
       "      <td>27.927494</td>\n",
       "      <td>1.460437</td>\n",
       "      <td>366.789300</td>\n",
       "      <td>1.675521</td>\n",
       "      <td>21.764467</td>\n",
       "      <td>13382.795529</td>\n",
       "      <td>0.298252</td>\n",
       "    </tr>\n",
       "    <tr>\n",
       "      <th>min</th>\n",
       "      <td>0.000000</td>\n",
       "      <td>0.000000</td>\n",
       "      <td>0.000000</td>\n",
       "      <td>0.000000</td>\n",
       "      <td>0.000000</td>\n",
       "      <td>0.000000</td>\n",
       "      <td>-1.252760e+05</td>\n",
       "      <td>-3.037000e+03</td>\n",
       "      <td>-9.138600e+04</td>\n",
       "      <td>-364.940000</td>\n",
       "      <td>...</td>\n",
       "      <td>-0.122184</td>\n",
       "      <td>-9038.210000</td>\n",
       "      <td>-525.540000</td>\n",
       "      <td>-615.660000</td>\n",
       "      <td>1.000000</td>\n",
       "      <td>-4148.990000</td>\n",
       "      <td>1.000000</td>\n",
       "      <td>1.000000</td>\n",
       "      <td>1002.000000</td>\n",
       "      <td>0.000000</td>\n",
       "    </tr>\n",
       "    <tr>\n",
       "      <th>25%</th>\n",
       "      <td>0.126908</td>\n",
       "      <td>0.000000</td>\n",
       "      <td>0.000000</td>\n",
       "      <td>40.728885</td>\n",
       "      <td>0.000000</td>\n",
       "      <td>0.000000</td>\n",
       "      <td>5.901000e+03</td>\n",
       "      <td>0.000000e+00</td>\n",
       "      <td>0.000000e+00</td>\n",
       "      <td>0.000000</td>\n",
       "      <td>...</td>\n",
       "      <td>40.606701</td>\n",
       "      <td>0.000000</td>\n",
       "      <td>11.965000</td>\n",
       "      <td>11.950000</td>\n",
       "      <td>1.000000</td>\n",
       "      <td>51.970000</td>\n",
       "      <td>4.000000</td>\n",
       "      <td>12.500000</td>\n",
       "      <td>15388.000000</td>\n",
       "      <td>0.000000</td>\n",
       "    </tr>\n",
       "    <tr>\n",
       "      <th>50%</th>\n",
       "      <td>0.148477</td>\n",
       "      <td>0.085658</td>\n",
       "      <td>0.000000</td>\n",
       "      <td>44.266930</td>\n",
       "      <td>0.000000</td>\n",
       "      <td>0.000000</td>\n",
       "      <td>1.533300e+04</td>\n",
       "      <td>0.000000e+00</td>\n",
       "      <td>9.010000e+02</td>\n",
       "      <td>163.040000</td>\n",
       "      <td>...</td>\n",
       "      <td>44.311378</td>\n",
       "      <td>44.550000</td>\n",
       "      <td>21.090000</td>\n",
       "      <td>20.970000</td>\n",
       "      <td>1.000000</td>\n",
       "      <td>119.725000</td>\n",
       "      <td>5.000000</td>\n",
       "      <td>13.856000</td>\n",
       "      <td>27891.000000</td>\n",
       "      <td>0.000000</td>\n",
       "    </tr>\n",
       "    <tr>\n",
       "      <th>75%</th>\n",
       "      <td>0.152445</td>\n",
       "      <td>0.103395</td>\n",
       "      <td>0.072873</td>\n",
       "      <td>44.355821</td>\n",
       "      <td>24.339581</td>\n",
       "      <td>16.226389</td>\n",
       "      <td>5.018100e+04</td>\n",
       "      <td>0.000000e+00</td>\n",
       "      <td>4.127000e+03</td>\n",
       "      <td>396.207500</td>\n",
       "      <td>...</td>\n",
       "      <td>44.311378</td>\n",
       "      <td>218.190000</td>\n",
       "      <td>29.640000</td>\n",
       "      <td>29.640000</td>\n",
       "      <td>1.000000</td>\n",
       "      <td>275.872500</td>\n",
       "      <td>6.000000</td>\n",
       "      <td>19.800000</td>\n",
       "      <td>33888.000000</td>\n",
       "      <td>0.000000</td>\n",
       "    </tr>\n",
       "    <tr>\n",
       "      <th>max</th>\n",
       "      <td>0.280700</td>\n",
       "      <td>0.196405</td>\n",
       "      <td>0.104202</td>\n",
       "      <td>59.444710</td>\n",
       "      <td>36.490692</td>\n",
       "      <td>16.791555</td>\n",
       "      <td>1.609711e+07</td>\n",
       "      <td>4.188440e+06</td>\n",
       "      <td>4.538720e+06</td>\n",
       "      <td>12566.080000</td>\n",
       "      <td>...</td>\n",
       "      <td>59.444710</td>\n",
       "      <td>15042.790000</td>\n",
       "      <td>374.640000</td>\n",
       "      <td>374.640000</td>\n",
       "      <td>32.000000</td>\n",
       "      <td>24570.650000</td>\n",
       "      <td>16.000000</td>\n",
       "      <td>500.000000</td>\n",
       "      <td>50830.000000</td>\n",
       "      <td>1.000000</td>\n",
       "    </tr>\n",
       "  </tbody>\n",
       "</table>\n",
       "<p>8 rows × 29 columns</p>\n",
       "</div>"
      ],
      "text/plain": [
       "       price_p1_var  price_p2_var  price_p3_var  price_p1_fix  price_p2_fix  \\\n",
       "count  16081.000000  16081.000000  16081.000000  16081.000000  16081.000000   \n",
       "mean       0.143152      0.054872      0.030752     43.339673     10.691439   \n",
       "std        0.024348      0.050489      0.036383      5.354257     12.851369   \n",
       "min        0.000000      0.000000      0.000000      0.000000      0.000000   \n",
       "25%        0.126908      0.000000      0.000000     40.728885      0.000000   \n",
       "50%        0.148477      0.085658      0.000000     44.266930      0.000000   \n",
       "75%        0.152445      0.103395      0.072873     44.355821     24.339581   \n",
       "max        0.280700      0.196405      0.104202     59.444710     36.490692   \n",
       "\n",
       "       price_p3_fix      cons_12m  cons_gas_12m  cons_last_month  \\\n",
       "count  16081.000000  1.608100e+04  1.608100e+04     1.608100e+04   \n",
       "mean       6.450040  1.948840e+05  3.191807e+04     1.947393e+04   \n",
       "std        7.777794  6.797872e+05  1.776603e+05     8.239310e+04   \n",
       "min        0.000000 -1.252760e+05 -3.037000e+03    -9.138600e+04   \n",
       "25%        0.000000  5.901000e+03  0.000000e+00     0.000000e+00   \n",
       "50%        0.000000  1.533300e+04  0.000000e+00     9.010000e+02   \n",
       "75%       16.226389  5.018100e+04  0.000000e+00     4.127000e+03   \n",
       "max       16.791555  1.609711e+07  4.188440e+06     4.538720e+06   \n",
       "\n",
       "       forecast_base_bill_ele  ...  forecast_price_pow_p1      imp_cons  \\\n",
       "count             3502.000000  ...           15957.000000  16081.000000   \n",
       "mean               336.290029  ...              43.535796    196.224474   \n",
       "std                649.857338  ...               5.201248    494.559101   \n",
       "min               -364.940000  ...              -0.122184  -9038.210000   \n",
       "25%                  0.000000  ...              40.606701      0.000000   \n",
       "50%                163.040000  ...              44.311378     44.550000   \n",
       "75%                396.207500  ...              44.311378    218.190000   \n",
       "max              12566.080000  ...              59.444710  15042.790000   \n",
       "\n",
       "       margin_gross_pow_ele  margin_net_pow_ele   nb_prod_act    net_margin  \\\n",
       "count          16068.000000        16068.000000  16081.000000  16066.000000   \n",
       "mean              22.466121           21.463228      1.347988    217.988929   \n",
       "std               23.708404           27.927494      1.460437    366.789300   \n",
       "min             -525.540000         -615.660000      1.000000  -4148.990000   \n",
       "25%               11.965000           11.950000      1.000000     51.970000   \n",
       "50%               21.090000           20.970000      1.000000    119.725000   \n",
       "75%               29.640000           29.640000      1.000000    275.872500   \n",
       "max              374.640000          374.640000     32.000000  24570.650000   \n",
       "\n",
       "       num_years_antig       pow_max           zip         churn  \n",
       "count     16081.000000  16078.000000  16081.000000  16081.000000  \n",
       "mean          5.030035     20.599717  25891.936509      0.098688  \n",
       "std           1.675521     21.764467  13382.795529      0.298252  \n",
       "min           1.000000      1.000000   1002.000000      0.000000  \n",
       "25%           4.000000     12.500000  15388.000000      0.000000  \n",
       "50%           5.000000     13.856000  27891.000000      0.000000  \n",
       "75%           6.000000     19.800000  33888.000000      0.000000  \n",
       "max          16.000000    500.000000  50830.000000      1.000000  \n",
       "\n",
       "[8 rows x 29 columns]"
      ]
     },
     "execution_count": 20,
     "metadata": {},
     "output_type": "execute_result"
    }
   ],
   "source": [
    "train_df.select_dtypes(include='number').describe()"
   ]
  },
  {
   "cell_type": "markdown",
   "metadata": {},
   "source": [
    "A continuación, las variables categóricas (codificadas como `object`)."
   ]
  },
  {
   "cell_type": "code",
   "execution_count": 21,
   "metadata": {},
   "outputs": [
    {
     "data": {
      "text/html": [
       "<div>\n",
       "<style scoped>\n",
       "    .dataframe tbody tr th:only-of-type {\n",
       "        vertical-align: middle;\n",
       "    }\n",
       "\n",
       "    .dataframe tbody tr th {\n",
       "        vertical-align: top;\n",
       "    }\n",
       "\n",
       "    .dataframe thead th {\n",
       "        text-align: right;\n",
       "    }\n",
       "</style>\n",
       "<table border=\"1\" class=\"dataframe\">\n",
       "  <thead>\n",
       "    <tr style=\"text-align: right;\">\n",
       "      <th></th>\n",
       "      <th>channel_sales</th>\n",
       "      <th>has_gas</th>\n",
       "      <th>origin_up</th>\n",
       "      <th>isic_1l</th>\n",
       "    </tr>\n",
       "  </thead>\n",
       "  <tbody>\n",
       "    <tr>\n",
       "      <th>count</th>\n",
       "      <td>11869</td>\n",
       "      <td>16081</td>\n",
       "      <td>15994</td>\n",
       "      <td>16081</td>\n",
       "    </tr>\n",
       "    <tr>\n",
       "      <th>unique</th>\n",
       "      <td>7</td>\n",
       "      <td>2</td>\n",
       "      <td>5</td>\n",
       "      <td>19</td>\n",
       "    </tr>\n",
       "    <tr>\n",
       "      <th>top</th>\n",
       "      <td>foosdfpfkusacimwkcsosbicdxkicaua</td>\n",
       "      <td>f</td>\n",
       "      <td>lxidpiddsbxsbosboudacockeimpuepw</td>\n",
       "      <td>G</td>\n",
       "    </tr>\n",
       "    <tr>\n",
       "      <th>freq</th>\n",
       "      <td>7371</td>\n",
       "      <td>13119</td>\n",
       "      <td>7819</td>\n",
       "      <td>3132</td>\n",
       "    </tr>\n",
       "  </tbody>\n",
       "</table>\n",
       "</div>"
      ],
      "text/plain": [
       "                           channel_sales has_gas  \\\n",
       "count                              11869   16081   \n",
       "unique                                 7       2   \n",
       "top     foosdfpfkusacimwkcsosbicdxkicaua       f   \n",
       "freq                                7371   13119   \n",
       "\n",
       "                               origin_up isic_1l  \n",
       "count                              15994   16081  \n",
       "unique                                 5      19  \n",
       "top     lxidpiddsbxsbosboudacockeimpuepw       G  \n",
       "freq                                7819    3132  "
      ]
     },
     "execution_count": 21,
     "metadata": {},
     "output_type": "execute_result"
    }
   ],
   "source": [
    "train_df.select_dtypes(include='object').describe()"
   ]
  },
  {
   "cell_type": "markdown",
   "metadata": {},
   "source": [
    "Por último, las fechas."
   ]
  },
  {
   "cell_type": "code",
   "execution_count": 22,
   "metadata": {},
   "outputs": [
    {
     "data": {
      "text/html": [
       "<div>\n",
       "<style scoped>\n",
       "    .dataframe tbody tr th:only-of-type {\n",
       "        vertical-align: middle;\n",
       "    }\n",
       "\n",
       "    .dataframe tbody tr th {\n",
       "        vertical-align: top;\n",
       "    }\n",
       "\n",
       "    .dataframe thead th {\n",
       "        text-align: right;\n",
       "    }\n",
       "</style>\n",
       "<table border=\"1\" class=\"dataframe\">\n",
       "  <thead>\n",
       "    <tr style=\"text-align: right;\">\n",
       "      <th></th>\n",
       "      <th>date_activ</th>\n",
       "      <th>date_end</th>\n",
       "      <th>date_first_activ</th>\n",
       "      <th>date_modif_prod</th>\n",
       "      <th>date_renewal</th>\n",
       "    </tr>\n",
       "  </thead>\n",
       "  <tbody>\n",
       "    <tr>\n",
       "      <th>count</th>\n",
       "      <td>16081</td>\n",
       "      <td>16079</td>\n",
       "      <td>3502</td>\n",
       "      <td>15925</td>\n",
       "      <td>16041</td>\n",
       "    </tr>\n",
       "    <tr>\n",
       "      <th>mean</th>\n",
       "      <td>2011-01-17 14:31:22.718736640</td>\n",
       "      <td>2016-07-27 11:29:41.080912896</td>\n",
       "      <td>2011-06-19 10:05:41.290691328</td>\n",
       "      <td>2012-12-15 07:47:51.183673344</td>\n",
       "      <td>2015-07-20 21:38:04.421170944</td>\n",
       "    </tr>\n",
       "    <tr>\n",
       "      <th>min</th>\n",
       "      <td>2000-07-25 00:00:00</td>\n",
       "      <td>2006-08-26 00:00:00</td>\n",
       "      <td>2001-01-10 00:00:00</td>\n",
       "      <td>2000-07-25 00:00:00</td>\n",
       "      <td>2013-06-26 00:00:00</td>\n",
       "    </tr>\n",
       "    <tr>\n",
       "      <th>25%</th>\n",
       "      <td>2010-01-12 00:00:00</td>\n",
       "      <td>2016-04-28 00:00:00</td>\n",
       "      <td>2010-08-04 00:00:00</td>\n",
       "      <td>2010-08-10 00:00:00</td>\n",
       "      <td>2015-04-19 00:00:00</td>\n",
       "    </tr>\n",
       "    <tr>\n",
       "      <th>50%</th>\n",
       "      <td>2011-03-07 00:00:00</td>\n",
       "      <td>2016-07-30 00:00:00</td>\n",
       "      <td>2011-10-28 00:00:00</td>\n",
       "      <td>2013-05-02 00:00:00</td>\n",
       "      <td>2015-07-24 00:00:00</td>\n",
       "    </tr>\n",
       "    <tr>\n",
       "      <th>75%</th>\n",
       "      <td>2012-04-26 00:00:00</td>\n",
       "      <td>2016-10-31 00:00:00</td>\n",
       "      <td>2012-06-22 00:00:00</td>\n",
       "      <td>2015-05-24 00:00:00</td>\n",
       "      <td>2015-10-30 00:00:00</td>\n",
       "    </tr>\n",
       "    <tr>\n",
       "      <th>max</th>\n",
       "      <td>2014-09-01 00:00:00</td>\n",
       "      <td>2017-06-13 00:00:00</td>\n",
       "      <td>2014-09-01 00:00:00</td>\n",
       "      <td>2016-01-29 00:00:00</td>\n",
       "      <td>2016-01-28 00:00:00</td>\n",
       "    </tr>\n",
       "  </tbody>\n",
       "</table>\n",
       "</div>"
      ],
      "text/plain": [
       "                          date_activ                       date_end  \\\n",
       "count                          16081                          16079   \n",
       "mean   2011-01-17 14:31:22.718736640  2016-07-27 11:29:41.080912896   \n",
       "min              2000-07-25 00:00:00            2006-08-26 00:00:00   \n",
       "25%              2010-01-12 00:00:00            2016-04-28 00:00:00   \n",
       "50%              2011-03-07 00:00:00            2016-07-30 00:00:00   \n",
       "75%              2012-04-26 00:00:00            2016-10-31 00:00:00   \n",
       "max              2014-09-01 00:00:00            2017-06-13 00:00:00   \n",
       "\n",
       "                    date_first_activ                date_modif_prod  \\\n",
       "count                           3502                          15925   \n",
       "mean   2011-06-19 10:05:41.290691328  2012-12-15 07:47:51.183673344   \n",
       "min              2001-01-10 00:00:00            2000-07-25 00:00:00   \n",
       "25%              2010-08-04 00:00:00            2010-08-10 00:00:00   \n",
       "50%              2011-10-28 00:00:00            2013-05-02 00:00:00   \n",
       "75%              2012-06-22 00:00:00            2015-05-24 00:00:00   \n",
       "max              2014-09-01 00:00:00            2016-01-29 00:00:00   \n",
       "\n",
       "                        date_renewal  \n",
       "count                          16041  \n",
       "mean   2015-07-20 21:38:04.421170944  \n",
       "min              2013-06-26 00:00:00  \n",
       "25%              2015-04-19 00:00:00  \n",
       "50%              2015-07-24 00:00:00  \n",
       "75%              2015-10-30 00:00:00  \n",
       "max              2016-01-28 00:00:00  "
      ]
     },
     "execution_count": 22,
     "metadata": {},
     "output_type": "execute_result"
    }
   ],
   "source": [
    "train_df.select_dtypes(include='datetime').describe(datetime_is_numeric=True)"
   ]
  },
  {
   "cell_type": "markdown",
   "metadata": {},
   "source": [
    "Otra forma de mirar los datos es mediante gráficas adecuadas a cada tipo de variable.\n",
    "\n",
    "En primer lugar, nos centramos en las variables numéricas y pintamos un diagrama de cajas para cada una de ellas. Esto nos permitirá conocer el detalle de la distribución de cada una de ellas, la presencia de *outliers*, etc. Como estamos usando un eje y compartido, deberemos reescalar previamente las variables para que el rango de valores de una no afecte a las demás."
   ]
  },
  {
   "cell_type": "code",
   "execution_count": 23,
   "metadata": {},
   "outputs": [
    {
     "data": {
      "image/png": "[encoded data removed]",
      "text/plain": [
       "<Figure size 1728x432 with 1 Axes>"
      ]
     },
     "metadata": {
      "needs_background": "light"
     },
     "output_type": "display_data"
    },
    {
     "data": {
      "image/png": "[encoded data removed]",
      "text/plain": [
       "<Figure size 1728x432 with 1 Axes>"
      ]
     },
     "metadata": {
      "needs_background": "light"
     },
     "output_type": "display_data"
    },
    {
     "data": {
      "image/png": "[encoded data removed]",
      "text/plain": [
       "<Figure size 1728x432 with 1 Axes>"
      ]
     },
     "metadata": {
      "needs_background": "light"
     },
     "output_type": "display_data"
    }
   ],
   "source": [
    "import matplotlib.pyplot as plt\n",
    "import seaborn as sns\n",
    "\n",
    "width=10\n",
    "\n",
    "for i in range(int(np.ceil(train_df.select_dtypes(include='number').shape[1]/width))):\n",
    "    df=train_df.select_dtypes(include='number')\n",
    "    df=(df-df.min())/(df.max()-df.min())\n",
    "    train_df_melt=pd.melt(df.iloc[:, i*width:(i+1)*width])\n",
    "    plt.figure(figsize=(24, 6))\n",
    "    sns.boxplot(x='variable', y='value', data=train_df_melt)"
   ]
  },
  {
   "cell_type": "markdown",
   "metadata": {},
   "source": [
    "Otra forma de mirar los mismos datos es mediante un histograma. En este caso, adicionalmente, podemos usar el color para representar la variable de clase (`churn`). Esto nos permitirá apreciar, si las hay, diferencias en la distribución de una variable dependiendo de la clase a la que pertenezcan las instancias."
   ]
  },
  {
   "cell_type": "code",
   "execution_count": 24,
   "metadata": {},
   "outputs": [
    {
     "data": {
      "image/png": "[encoded data removed]",
      "text/plain": [
       "<Figure size 1728x2592 with 30 Axes>"
      ]
     },
     "metadata": {
      "needs_background": "light"
     },
     "output_type": "display_data"
    }
   ],
   "source": [
    "import matplotlib.pyplot as plt\n",
    "import seaborn as sns\n",
    "\n",
    "df=train_df.select_dtypes(include='number')\n",
    "\n",
    "fig, axes = plt.subplots(6, 5, figsize=(24, 36), sharey=False)\n",
    "i=0\n",
    "\n",
    "for col in df.columns:\n",
    "    sns.histplot(ax=axes[i//5, i%5], x=col, hue='churn', data=df)\n",
    "    i=i+1"
   ]
  },
  {
   "cell_type": "markdown",
   "metadata": {},
   "source": [
    "Otra manera de obtener una información similar es mediante boxplots donde se segmente por categoría (en este caso, de acuerdo a la variable `churn`). A continuación, se muestran dos ejemplos que no pueden apreciarse claramente en la matriz de gráficos anterior."
   ]
  },
  {
   "cell_type": "code",
   "execution_count": 25,
   "metadata": {},
   "outputs": [
    {
     "data": {
      "text/plain": [
       "(array([0, 1]), [Text(0, 0, '0'), Text(1, 0, '1')])"
      ]
     },
     "execution_count": 25,
     "metadata": {},
     "output_type": "execute_result"
    },
    {
     "data": {
      "image/png": "[encoded data removed]",
      "text/plain": [
       "<Figure size 720x432 with 1 Axes>"
      ]
     },
     "metadata": {
      "needs_background": "light"
     },
     "output_type": "display_data"
    }
   ],
   "source": [
    "plt.figure(figsize = (10, 6))\n",
    "ax = sns.boxplot(x='churn', y='cons_last_month', data=train_df)\n",
    "plt.setp(ax.artists, alpha=.5, linewidth=2, edgecolor='k')\n",
    "plt.xticks(rotation=45)"
   ]
  },
  {
   "cell_type": "code",
   "execution_count": 26,
   "metadata": {},
   "outputs": [
    {
     "data": {
      "text/plain": [
       "(array([0, 1]), [Text(0, 0, '0'), Text(1, 0, '1')])"
      ]
     },
     "execution_count": 26,
     "metadata": {},
     "output_type": "execute_result"
    },
    {
     "data": {
      "image/png": "[encoded data removed]",
      "text/plain": [
       "<Figure size 720x432 with 1 Axes>"
      ]
     },
     "metadata": {
      "needs_background": "light"
     },
     "output_type": "display_data"
    }
   ],
   "source": [
    "plt.figure(figsize = (10, 6))\n",
    "ax = sns.boxplot(x='churn', y='forecast_meter_rent_12m', data=train_df)\n",
    "plt.setp(ax.artists, alpha=.5, linewidth=2, edgecolor='k')\n",
    "plt.xticks(rotation=45)"
   ]
  },
  {
   "cell_type": "markdown",
   "metadata": {},
   "source": [
    "En el caso de las variables categóricas, una gráfica que nos proporciona bastante información es el diagrama de barras. No permite observar la distribución de instancias por categoría, lo cual nos permitirá tomar decisiones como descartar una variable si la mayoría de las instancias pertenecen a la misma categoría o eliminar categorías (o agruparlas) en el caso de que las frecuencias entre éstas esté muy desbalanceada."
   ]
  },
  {
   "cell_type": "code",
   "execution_count": 27,
   "metadata": {},
   "outputs": [
    {
     "data": {
      "image/png": "[encoded data removed]",
      "text/plain": [
       "<Figure size 1728x432 with 1 Axes>"
      ]
     },
     "metadata": {
      "needs_background": "light"
     },
     "output_type": "display_data"
    },
    {
     "data": {
      "image/png": "[encoded data removed]",
      "text/plain": [
       "<Figure size 1728x432 with 1 Axes>"
      ]
     },
     "metadata": {
      "needs_background": "light"
     },
     "output_type": "display_data"
    },
    {
     "data": {
      "image/png": "[encoded data removed]",
      "text/plain": [
       "<Figure size 1728x432 with 1 Axes>"
      ]
     },
     "metadata": {
      "needs_background": "light"
     },
     "output_type": "display_data"
    },
    {
     "data": {
      "image/png": "[encoded data removed]",
      "text/plain": [
       "<Figure size 1728x432 with 1 Axes>"
      ]
     },
     "metadata": {
      "needs_background": "light"
     },
     "output_type": "display_data"
    }
   ],
   "source": [
    "for col in train_df.select_dtypes(include='object').columns:\n",
    "    plt.figure(figsize=(24, 6))\n",
    "    sns.countplot(x=col, data=train_df)"
   ]
  },
  {
   "cell_type": "markdown",
   "metadata": {},
   "source": [
    "Un último tipo de gráfica que vamos a generar es un mapa de calor que nos permita observar la correlación existente entre las variables. Esto nos va a permitir identificar pares (o grupos) de variables altamente correladas. Más adelante, usaremos esta información como criterio en la toma de decisiones para descartar variables redundantes en la fase de modelado."
   ]
  },
  {
   "cell_type": "code",
   "execution_count": 28,
   "metadata": {},
   "outputs": [],
   "source": [
    "corr_mat=train_df.select_dtypes(include='number').corr().stack().reset_index(name='correlation')"
   ]
  },
  {
   "cell_type": "code",
   "execution_count": 29,
   "metadata": {},
   "outputs": [
    {
     "data": {
      "image/png": "[encoded data removed]",
      "text/plain": [
       "<Figure size 781.625x720 with 1 Axes>"
      ]
     },
     "metadata": {
      "needs_background": "light"
     },
     "output_type": "display_data"
    }
   ],
   "source": [
    "g=sns.relplot(\n",
    "    data=corr_mat,\n",
    "    x='level_0', y='level_1', hue='correlation', size='correlation',\n",
    "    palette='vlag', hue_norm=(-1, 1), edgecolor='.7',\n",
    "    height=10, sizes=(50, 250), size_norm=(-.2, .8),\n",
    ")\n",
    "\n",
    "g.set(xlabel='', ylabel='', aspect='equal')\n",
    "g.despine(left=True, bottom=True)\n",
    "g.ax.margins(.02)\n",
    "\n",
    "for label in g.ax.get_xticklabels():\n",
    "    label.set_rotation(90)"
   ]
  },
  {
   "cell_type": "markdown",
   "metadata": {},
   "source": [
    "Un ejemplo claro es el *cluster* formado por las variables `forecast*`, de las cuales probablemente podamos descartar varias, ya que tenemos correlaciones por encima del 70% en todos los casos (y varias por encima del 95%)."
   ]
  },
  {
   "cell_type": "code",
   "execution_count": 30,
   "metadata": {},
   "outputs": [
    {
     "data": {
      "text/html": [
       "<div>\n",
       "<style scoped>\n",
       "    .dataframe tbody tr th:only-of-type {\n",
       "        vertical-align: middle;\n",
       "    }\n",
       "\n",
       "    .dataframe tbody tr th {\n",
       "        vertical-align: top;\n",
       "    }\n",
       "\n",
       "    .dataframe thead th {\n",
       "        text-align: right;\n",
       "    }\n",
       "</style>\n",
       "<table border=\"1\" class=\"dataframe\">\n",
       "  <thead>\n",
       "    <tr style=\"text-align: right;\">\n",
       "      <th></th>\n",
       "      <th>forecast_base_bill_ele</th>\n",
       "      <th>forecast_base_bill_year</th>\n",
       "      <th>forecast_bill_12m</th>\n",
       "      <th>forecast_cons</th>\n",
       "      <th>forecast_cons_12m</th>\n",
       "      <th>forecast_cons_year</th>\n",
       "    </tr>\n",
       "  </thead>\n",
       "  <tbody>\n",
       "    <tr>\n",
       "      <th>forecast_base_bill_ele</th>\n",
       "      <td>1.000000</td>\n",
       "      <td>1.000000</td>\n",
       "      <td>0.794709</td>\n",
       "      <td>0.964396</td>\n",
       "      <td>0.750884</td>\n",
       "      <td>0.958294</td>\n",
       "    </tr>\n",
       "    <tr>\n",
       "      <th>forecast_base_bill_year</th>\n",
       "      <td>1.000000</td>\n",
       "      <td>1.000000</td>\n",
       "      <td>0.794709</td>\n",
       "      <td>0.964396</td>\n",
       "      <td>0.750884</td>\n",
       "      <td>0.958294</td>\n",
       "    </tr>\n",
       "    <tr>\n",
       "      <th>forecast_bill_12m</th>\n",
       "      <td>0.794709</td>\n",
       "      <td>0.794709</td>\n",
       "      <td>1.000000</td>\n",
       "      <td>0.751358</td>\n",
       "      <td>0.970478</td>\n",
       "      <td>0.797220</td>\n",
       "    </tr>\n",
       "    <tr>\n",
       "      <th>forecast_cons</th>\n",
       "      <td>0.964396</td>\n",
       "      <td>0.964396</td>\n",
       "      <td>0.751358</td>\n",
       "      <td>1.000000</td>\n",
       "      <td>0.758757</td>\n",
       "      <td>0.974412</td>\n",
       "    </tr>\n",
       "    <tr>\n",
       "      <th>forecast_cons_12m</th>\n",
       "      <td>0.750884</td>\n",
       "      <td>0.750884</td>\n",
       "      <td>0.970478</td>\n",
       "      <td>0.758757</td>\n",
       "      <td>1.000000</td>\n",
       "      <td>0.746053</td>\n",
       "    </tr>\n",
       "    <tr>\n",
       "      <th>forecast_cons_year</th>\n",
       "      <td>0.958294</td>\n",
       "      <td>0.958294</td>\n",
       "      <td>0.797220</td>\n",
       "      <td>0.974412</td>\n",
       "      <td>0.746053</td>\n",
       "      <td>1.000000</td>\n",
       "    </tr>\n",
       "  </tbody>\n",
       "</table>\n",
       "</div>"
      ],
      "text/plain": [
       "                         forecast_base_bill_ele  forecast_base_bill_year  \\\n",
       "forecast_base_bill_ele                 1.000000                 1.000000   \n",
       "forecast_base_bill_year                1.000000                 1.000000   \n",
       "forecast_bill_12m                      0.794709                 0.794709   \n",
       "forecast_cons                          0.964396                 0.964396   \n",
       "forecast_cons_12m                      0.750884                 0.750884   \n",
       "forecast_cons_year                     0.958294                 0.958294   \n",
       "\n",
       "                         forecast_bill_12m  forecast_cons  forecast_cons_12m  \\\n",
       "forecast_base_bill_ele            0.794709       0.964396           0.750884   \n",
       "forecast_base_bill_year           0.794709       0.964396           0.750884   \n",
       "forecast_bill_12m                 1.000000       0.751358           0.970478   \n",
       "forecast_cons                     0.751358       1.000000           0.758757   \n",
       "forecast_cons_12m                 0.970478       0.758757           1.000000   \n",
       "forecast_cons_year                0.797220       0.974412           0.746053   \n",
       "\n",
       "                         forecast_cons_year  \n",
       "forecast_base_bill_ele             0.958294  \n",
       "forecast_base_bill_year            0.958294  \n",
       "forecast_bill_12m                  0.797220  \n",
       "forecast_cons                      0.974412  \n",
       "forecast_cons_12m                  0.746053  \n",
       "forecast_cons_year                 1.000000  "
      ]
     },
     "execution_count": 30,
     "metadata": {},
     "output_type": "execute_result"
    }
   ],
   "source": [
    "train_df.select_dtypes(include='number').corr().loc[['forecast_base_bill_ele', 'forecast_base_bill_year', 'forecast_bill_12m', 'forecast_cons', 'forecast_cons_12m', 'forecast_cons_year'], ['forecast_base_bill_ele', 'forecast_base_bill_year', 'forecast_bill_12m', 'forecast_cons', 'forecast_cons_12m', 'forecast_cons_year']]"
   ]
  },
  {
   "cell_type": "markdown",
   "metadata": {},
   "source": [
    "Por último, y aunque no forme parte de los contenidos que este *notebook* pretende ilustrar, existe un paquete llamado `pandas_profiling` que permite generar muchas de las cosas que hemos visto de manera automatizada (aunque, al generar mucha información, podría ser más complicado centrarnos en lo más relevante y/o extraer la información que más nos interese de cara a, por ejemplo, preparar un informe)."
   ]
  },
  {
   "cell_type": "code",
   "execution_count": 31,
   "metadata": {},
   "outputs": [],
   "source": [
    "#from pandas_profiling import ProfileReport\n",
    "#report = ProfileReport(train_df)\n",
    "\n",
    "# Saving report as PDF\n",
    "#report.to_file(output_file='train_df_pandas.html')"
   ]
  },
  {
   "cell_type": "code",
   "execution_count": 32,
   "metadata": {},
   "outputs": [],
   "source": [
    "#report"
   ]
  },
  {
   "cell_type": "markdown",
   "metadata": {},
   "source": [
    "## 2.3 Gestión de valores nulos"
   ]
  },
  {
   "cell_type": "markdown",
   "metadata": {},
   "source": [
    "Otro paso importante en la preparación de nuestros datos previa al modelado es el análisis de la presencia de nulos en nuestras variables."
   ]
  },
  {
   "cell_type": "markdown",
   "metadata": {},
   "source": [
    "Podemos consultar en un listado de todas las variables cuáles tienen nulos."
   ]
  },
  {
   "cell_type": "code",
   "execution_count": 33,
   "metadata": {},
   "outputs": [
    {
     "data": {
      "text/plain": [
       "price_p1_var                    0\n",
       "price_p2_var                    0\n",
       "price_p3_var                    0\n",
       "price_p1_fix                    0\n",
       "price_p2_fix                    0\n",
       "price_p3_fix                    0\n",
       "channel_sales                4212\n",
       "cons_12m                        0\n",
       "cons_gas_12m                    0\n",
       "cons_last_month                 0\n",
       "date_activ                      0\n",
       "date_end                        2\n",
       "date_first_activ            12579\n",
       "date_modif_prod               156\n",
       "date_renewal                   40\n",
       "forecast_base_bill_ele      12579\n",
       "forecast_base_bill_year     12579\n",
       "forecast_bill_12m           12579\n",
       "forecast_cons               12579\n",
       "forecast_cons_12m               0\n",
       "forecast_cons_year              0\n",
       "forecast_discount_energy      124\n",
       "forecast_meter_rent_12m         0\n",
       "forecast_price_energy_p1      124\n",
       "forecast_price_energy_p2      124\n",
       "forecast_price_pow_p1         124\n",
       "has_gas                         0\n",
       "imp_cons                        0\n",
       "margin_gross_pow_ele           13\n",
       "margin_net_pow_ele             13\n",
       "nb_prod_act                     0\n",
       "net_margin                     15\n",
       "num_years_antig                 0\n",
       "origin_up                      87\n",
       "pow_max                         3\n",
       "isic_1l                         0\n",
       "zip                             0\n",
       "churn                           0\n",
       "dtype: int64"
      ]
     },
     "execution_count": 33,
     "metadata": {},
     "output_type": "execute_result"
    }
   ],
   "source": [
    "train_df.isna().sum()"
   ]
  },
  {
   "cell_type": "markdown",
   "metadata": {},
   "source": [
    "También podemos pintar un diagrama de barras con la proporción de nulos para cada variable que tiene al menos uno. Como podemos observar, hay 5 variables con una presencia de nulos de cerca del 80%. A continuación, hay otra variable con cerca de un 30% de nulos. El resto de variables tienen una presencia de nulos muy pequeña."
   ]
  },
  {
   "cell_type": "code",
   "execution_count": 34,
   "metadata": {},
   "outputs": [
    {
     "data": {
      "image/png": "[encoded data removed]",
      "text/plain": [
       "<Figure size 432x288 with 1 Axes>"
      ]
     },
     "metadata": {},
     "output_type": "display_data"
    }
   ],
   "source": [
    "import matplotlib.pyplot as plt\n",
    "import seaborn as sns\n",
    "\n",
    "missing_values=train_df.isnull().sum()/len(train_df)\n",
    "missing_values=missing_values[missing_values>0]\n",
    "missing_values.sort_values(inplace=True)\n",
    "\n",
    "missing_values = missing_values.to_frame()\n",
    "missing_values.columns=['count']\n",
    "missing_values['variable']=missing_values.index\n",
    "missing_values\n",
    "\n",
    "sns.set(style='whitegrid', color_codes=True)\n",
    "sns.barplot(x='variable', y='count', data=missing_values)\n",
    "plt.xlabel('Variable name')\n",
    "plt.ylabel('% of NAs')\n",
    "plt.xticks(rotation = 90)\n",
    "plt.show()"
   ]
  },
  {
   "cell_type": "markdown",
   "metadata": {},
   "source": [
    "Lo siguiente que debemos hacer es tomar una decisión sobre qué hacer con las variables que tienen nulos.\n",
    "\n",
    "Una primera opción es eliminar las instancias con presencia de nulos en alguna de sus variables. Sin embargo, en este conjunto de datos hay varias variables con una presencia de nulos altísima, por lo que no es una opción.\n",
    "\n",
    "La segunda opción es eliminar las variables con una alta proporción de nulos (las cinco que hemos identificado, y habría que ver si la sexta también).\n",
    "\n",
    "Y, por último, nos queda la opción de llevar a cabo una imputación, para rellenar los huecos. Esto podría tener sentido para las variables con baja proporción de nulos, no tanto seguramente para las que están por encima del 80%."
   ]
  },
  {
   "cell_type": "markdown",
   "metadata": {},
   "source": [
    "Por todo lo anterior, y con el objetivo de ilustrar el proceso de imputación de nulos, vamos a proceder a rellenar los huecos para las variables con un porcentaje de nulos bajo y a descartar aquéllas con demasiados nulos."
   ]
  },
  {
   "cell_type": "markdown",
   "metadata": {},
   "source": [
    "Primero, descartamos las 5 columnas con más nulos."
   ]
  },
  {
   "cell_type": "code",
   "execution_count": 35,
   "metadata": {},
   "outputs": [],
   "source": [
    "train_df=train_df.drop(['forecast_base_bill_ele', 'forecast_base_bill_year', 'forecast_bill_12m', 'forecast_cons', 'date_first_activ'], axis=1)"
   ]
  },
  {
   "cell_type": "markdown",
   "metadata": {},
   "source": [
    "Para hacer la imputación de nulos, vamos a usar la clase `IterativeImputer` de `sklearn`, que se basa en el funcionamiento del paquete `MICE` de `R`, uno de los más utilizados para este trabajo."
   ]
  },
  {
   "cell_type": "code",
   "execution_count": 36,
   "metadata": {},
   "outputs": [],
   "source": [
    "from sklearn.experimental import enable_iterative_imputer \n",
    "from sklearn.impute import IterativeImputer"
   ]
  },
  {
   "cell_type": "markdown",
   "metadata": {},
   "source": [
    "Para poder llevar a cabo el proceso, seleccionamos las columnas (numéricas) que usaremos en la imputación, a excepción de la columna `churn`, para no contaminar el proceso. Si quisiéramos ir un paso más allá, podríamos efectuar la imputación tras haber dividido el conjunto de datos en una parte de aprendizaje y otra de validación, aunque en la práctica no suele suponer un gran problema."
   ]
  },
  {
   "cell_type": "code",
   "execution_count": 37,
   "metadata": {},
   "outputs": [],
   "source": [
    "train_to_imp_df=train_df.select_dtypes(include=\"number\").drop(\"churn\", axis=1)\n",
    "\n",
    "imp=IterativeImputer(max_iter=100)"
   ]
  },
  {
   "cell_type": "markdown",
   "metadata": {},
   "source": [
    "Antes de efectuar la imputación de nulos, vamos a reescalar nuestros datos, porque tenemos variables con valores muy altos que podrían crear errores numéricos."
   ]
  },
  {
   "cell_type": "code",
   "execution_count": 38,
   "metadata": {},
   "outputs": [],
   "source": [
    "from sklearn.preprocessing import MinMaxScaler\n",
    "\n",
    "scaler=MinMaxScaler()\n",
    "train_to_imp_np=scaler.fit_transform(train_to_imp_df)"
   ]
  },
  {
   "cell_type": "markdown",
   "metadata": {},
   "source": [
    "Ahora sí, llevamos a cabo la imputación."
   ]
  },
  {
   "cell_type": "code",
   "execution_count": 39,
   "metadata": {},
   "outputs": [],
   "source": [
    "train_imputed=imp.fit_transform(train_to_imp_np)"
   ]
  },
  {
   "cell_type": "markdown",
   "metadata": {},
   "source": [
    "Y deshacemos el reescalado para seguir con nuestro análisis."
   ]
  },
  {
   "cell_type": "code",
   "execution_count": 40,
   "metadata": {},
   "outputs": [],
   "source": [
    "train_imputed=scaler.inverse_transform(train_imputed)"
   ]
  },
  {
   "cell_type": "markdown",
   "metadata": {},
   "source": [
    "Como el resultado devuelto por los métodos `fit_transform` es siempre un `array` de `numpy`, vamos a recrear un *DataFrame* con esa información y los nombre de columna adecuados."
   ]
  },
  {
   "cell_type": "code",
   "execution_count": 41,
   "metadata": {},
   "outputs": [],
   "source": [
    "train_imputed_df=pd.DataFrame(train_imputed, columns=train_to_imp_df.columns)"
   ]
  },
  {
   "cell_type": "markdown",
   "metadata": {},
   "source": [
    "Podemos asegurarnos de que los nulos han desaparecido."
   ]
  },
  {
   "cell_type": "code",
   "execution_count": 42,
   "metadata": {},
   "outputs": [
    {
     "data": {
      "text/plain": [
       "price_p1_var                0\n",
       "price_p2_var                0\n",
       "price_p3_var                0\n",
       "price_p1_fix                0\n",
       "price_p2_fix                0\n",
       "price_p3_fix                0\n",
       "cons_12m                    0\n",
       "cons_gas_12m                0\n",
       "cons_last_month             0\n",
       "forecast_cons_12m           0\n",
       "forecast_cons_year          0\n",
       "forecast_discount_energy    0\n",
       "forecast_meter_rent_12m     0\n",
       "forecast_price_energy_p1    0\n",
       "forecast_price_energy_p2    0\n",
       "forecast_price_pow_p1       0\n",
       "imp_cons                    0\n",
       "margin_gross_pow_ele        0\n",
       "margin_net_pow_ele          0\n",
       "nb_prod_act                 0\n",
       "net_margin                  0\n",
       "num_years_antig             0\n",
       "pow_max                     0\n",
       "zip                         0\n",
       "dtype: int64"
      ]
     },
     "execution_count": 42,
     "metadata": {},
     "output_type": "execute_result"
    }
   ],
   "source": [
    "train_imputed_df.isna().sum()"
   ]
  },
  {
   "cell_type": "markdown",
   "metadata": {},
   "source": [
    "Ahora ya sólo resta volver a integrar las columnas que hemos imputado en el *dataset* original. Para ello, seleccionaremos, del conjunto original, las columnas que no han pasado por el imputador."
   ]
  },
  {
   "cell_type": "code",
   "execution_count": 43,
   "metadata": {},
   "outputs": [],
   "source": [
    "df_to_append=train_df.loc[:, ~train_df.columns.isin(train_to_imp_df.columns)]"
   ]
  },
  {
   "cell_type": "markdown",
   "metadata": {},
   "source": [
    "A continuación, restauramos el índice en el *DataFrame* imputado."
   ]
  },
  {
   "cell_type": "code",
   "execution_count": 44,
   "metadata": {},
   "outputs": [],
   "source": [
    "train_imputed_df.index=train_df.index"
   ]
  },
  {
   "cell_type": "markdown",
   "metadata": {},
   "source": [
    "Ya sólo resta concatenar ambos *DataFrames*."
   ]
  },
  {
   "cell_type": "code",
   "execution_count": 45,
   "metadata": {},
   "outputs": [],
   "source": [
    "train_imputed_final=pd.concat([train_imputed_df, df_to_append], axis=1)"
   ]
  },
  {
   "cell_type": "markdown",
   "metadata": {},
   "source": [
    "Reordenar las columnas."
   ]
  },
  {
   "cell_type": "code",
   "execution_count": 46,
   "metadata": {},
   "outputs": [],
   "source": [
    "train_imputed_final=train_imputed_final[train_df.columns]"
   ]
  },
  {
   "cell_type": "markdown",
   "metadata": {},
   "source": [
    "Y hacer una copia de este último *DataFrame*, para trabajar a partir de este momento."
   ]
  },
  {
   "cell_type": "code",
   "execution_count": 47,
   "metadata": {},
   "outputs": [
    {
     "data": {
      "text/html": [
       "<div>\n",
       "<style scoped>\n",
       "    .dataframe tbody tr th:only-of-type {\n",
       "        vertical-align: middle;\n",
       "    }\n",
       "\n",
       "    .dataframe tbody tr th {\n",
       "        vertical-align: top;\n",
       "    }\n",
       "\n",
       "    .dataframe thead th {\n",
       "        text-align: right;\n",
       "    }\n",
       "</style>\n",
       "<table border=\"1\" class=\"dataframe\">\n",
       "  <thead>\n",
       "    <tr style=\"text-align: right;\">\n",
       "      <th></th>\n",
       "      <th>price_p1_var</th>\n",
       "      <th>price_p2_var</th>\n",
       "      <th>price_p3_var</th>\n",
       "      <th>price_p1_fix</th>\n",
       "      <th>price_p2_fix</th>\n",
       "      <th>price_p3_fix</th>\n",
       "      <th>channel_sales</th>\n",
       "      <th>cons_12m</th>\n",
       "      <th>cons_gas_12m</th>\n",
       "      <th>cons_last_month</th>\n",
       "      <th>...</th>\n",
       "      <th>margin_gross_pow_ele</th>\n",
       "      <th>margin_net_pow_ele</th>\n",
       "      <th>nb_prod_act</th>\n",
       "      <th>net_margin</th>\n",
       "      <th>num_years_antig</th>\n",
       "      <th>origin_up</th>\n",
       "      <th>pow_max</th>\n",
       "      <th>isic_1l</th>\n",
       "      <th>zip</th>\n",
       "      <th>churn</th>\n",
       "    </tr>\n",
       "    <tr>\n",
       "      <th>id</th>\n",
       "      <th></th>\n",
       "      <th></th>\n",
       "      <th></th>\n",
       "      <th></th>\n",
       "      <th></th>\n",
       "      <th></th>\n",
       "      <th></th>\n",
       "      <th></th>\n",
       "      <th></th>\n",
       "      <th></th>\n",
       "      <th></th>\n",
       "      <th></th>\n",
       "      <th></th>\n",
       "      <th></th>\n",
       "      <th></th>\n",
       "      <th></th>\n",
       "      <th></th>\n",
       "      <th></th>\n",
       "      <th></th>\n",
       "      <th></th>\n",
       "      <th></th>\n",
       "    </tr>\n",
       "  </thead>\n",
       "  <tbody>\n",
       "    <tr>\n",
       "      <th>0002203ffbb812588b632b9e628cc38d</th>\n",
       "      <td>0.126098</td>\n",
       "      <td>0.103975</td>\n",
       "      <td>0.073719</td>\n",
       "      <td>40.728885</td>\n",
       "      <td>24.437330</td>\n",
       "      <td>16.291555</td>\n",
       "      <td>foosdfpfkusacimwkcsosbicdxkicaua</td>\n",
       "      <td>22034.0</td>\n",
       "      <td>0.0</td>\n",
       "      <td>3084.0</td>\n",
       "      <td>...</td>\n",
       "      <td>43.08</td>\n",
       "      <td>43.08</td>\n",
       "      <td>1.0</td>\n",
       "      <td>81.42</td>\n",
       "      <td>6.0</td>\n",
       "      <td>kamkkxfxxuwbdslkwifmmcsiusiuosws</td>\n",
       "      <td>17.250</td>\n",
       "      <td>H</td>\n",
       "      <td>25182.0</td>\n",
       "      <td>0</td>\n",
       "    </tr>\n",
       "    <tr>\n",
       "      <th>0004351ebdd665e6ee664792efc4fd13</th>\n",
       "      <td>0.148047</td>\n",
       "      <td>0.000000</td>\n",
       "      <td>0.000000</td>\n",
       "      <td>44.444710</td>\n",
       "      <td>0.000000</td>\n",
       "      <td>0.000000</td>\n",
       "      <td>NaN</td>\n",
       "      <td>4060.0</td>\n",
       "      <td>0.0</td>\n",
       "      <td>0.0</td>\n",
       "      <td>...</td>\n",
       "      <td>24.42</td>\n",
       "      <td>24.42</td>\n",
       "      <td>1.0</td>\n",
       "      <td>61.58</td>\n",
       "      <td>6.0</td>\n",
       "      <td>kamkkxfxxuwbdslkwifmmcsiusiuosws</td>\n",
       "      <td>13.200</td>\n",
       "      <td>F</td>\n",
       "      <td>33779.0</td>\n",
       "      <td>0</td>\n",
       "    </tr>\n",
       "    <tr>\n",
       "      <th>0010bcc39e42b3c2131ed2ce55246e3c</th>\n",
       "      <td>0.201280</td>\n",
       "      <td>0.000000</td>\n",
       "      <td>0.000000</td>\n",
       "      <td>45.944710</td>\n",
       "      <td>0.000000</td>\n",
       "      <td>0.000000</td>\n",
       "      <td>usilxuppasemubllopkaafesmlibmsdf</td>\n",
       "      <td>7440.0</td>\n",
       "      <td>0.0</td>\n",
       "      <td>1062.0</td>\n",
       "      <td>...</td>\n",
       "      <td>38.58</td>\n",
       "      <td>38.58</td>\n",
       "      <td>2.0</td>\n",
       "      <td>81.61</td>\n",
       "      <td>3.0</td>\n",
       "      <td>lxidpiddsbxsbosboudacockeimpuepw</td>\n",
       "      <td>13.856</td>\n",
       "      <td>M</td>\n",
       "      <td>9219.0</td>\n",
       "      <td>0</td>\n",
       "    </tr>\n",
       "    <tr>\n",
       "      <th>0010ee3855fdea87602a5b7aba8e42de</th>\n",
       "      <td>0.122157</td>\n",
       "      <td>0.100029</td>\n",
       "      <td>0.069027</td>\n",
       "      <td>40.647429</td>\n",
       "      <td>24.388455</td>\n",
       "      <td>16.258972</td>\n",
       "      <td>lmkebamcaaclubfxadlmueccxoimlema</td>\n",
       "      <td>4199490.0</td>\n",
       "      <td>728810.0</td>\n",
       "      <td>456462.0</td>\n",
       "      <td>...</td>\n",
       "      <td>-2.80</td>\n",
       "      <td>-2.80</td>\n",
       "      <td>2.0</td>\n",
       "      <td>897.08</td>\n",
       "      <td>6.0</td>\n",
       "      <td>kamkkxfxxuwbdslkwifmmcsiusiuosws</td>\n",
       "      <td>33.000</td>\n",
       "      <td>M</td>\n",
       "      <td>42240.0</td>\n",
       "      <td>0</td>\n",
       "    </tr>\n",
       "    <tr>\n",
       "      <th>00114d74e963e47177db89bc70108537</th>\n",
       "      <td>0.149434</td>\n",
       "      <td>0.000000</td>\n",
       "      <td>0.000000</td>\n",
       "      <td>44.266930</td>\n",
       "      <td>0.000000</td>\n",
       "      <td>0.000000</td>\n",
       "      <td>ewpakwlliwisiwduibdlfmalxowmwpci</td>\n",
       "      <td>11272.0</td>\n",
       "      <td>0.0</td>\n",
       "      <td>0.0</td>\n",
       "      <td>...</td>\n",
       "      <td>29.76</td>\n",
       "      <td>29.76</td>\n",
       "      <td>1.0</td>\n",
       "      <td>157.99</td>\n",
       "      <td>6.0</td>\n",
       "      <td>kamkkxfxxuwbdslkwifmmcsiusiuosws</td>\n",
       "      <td>13.200</td>\n",
       "      <td>H</td>\n",
       "      <td>33519.0</td>\n",
       "      <td>0</td>\n",
       "    </tr>\n",
       "  </tbody>\n",
       "</table>\n",
       "<p>5 rows × 33 columns</p>\n",
       "</div>"
      ],
      "text/plain": [
       "                                  price_p1_var  price_p2_var  price_p3_var  \\\n",
       "id                                                                           \n",
       "0002203ffbb812588b632b9e628cc38d      0.126098      0.103975      0.073719   \n",
       "0004351ebdd665e6ee664792efc4fd13      0.148047      0.000000      0.000000   \n",
       "0010bcc39e42b3c2131ed2ce55246e3c      0.201280      0.000000      0.000000   \n",
       "0010ee3855fdea87602a5b7aba8e42de      0.122157      0.100029      0.069027   \n",
       "00114d74e963e47177db89bc70108537      0.149434      0.000000      0.000000   \n",
       "\n",
       "                                  price_p1_fix  price_p2_fix  price_p3_fix  \\\n",
       "id                                                                           \n",
       "0002203ffbb812588b632b9e628cc38d     40.728885     24.437330     16.291555   \n",
       "0004351ebdd665e6ee664792efc4fd13     44.444710      0.000000      0.000000   \n",
       "0010bcc39e42b3c2131ed2ce55246e3c     45.944710      0.000000      0.000000   \n",
       "0010ee3855fdea87602a5b7aba8e42de     40.647429     24.388455     16.258972   \n",
       "00114d74e963e47177db89bc70108537     44.266930      0.000000      0.000000   \n",
       "\n",
       "                                                     channel_sales   cons_12m  \\\n",
       "id                                                                              \n",
       "0002203ffbb812588b632b9e628cc38d  foosdfpfkusacimwkcsosbicdxkicaua    22034.0   \n",
       "0004351ebdd665e6ee664792efc4fd13                               NaN     4060.0   \n",
       "0010bcc39e42b3c2131ed2ce55246e3c  usilxuppasemubllopkaafesmlibmsdf     7440.0   \n",
       "0010ee3855fdea87602a5b7aba8e42de  lmkebamcaaclubfxadlmueccxoimlema  4199490.0   \n",
       "00114d74e963e47177db89bc70108537  ewpakwlliwisiwduibdlfmalxowmwpci    11272.0   \n",
       "\n",
       "                                  cons_gas_12m  cons_last_month  ...  \\\n",
       "id                                                               ...   \n",
       "0002203ffbb812588b632b9e628cc38d           0.0           3084.0  ...   \n",
       "0004351ebdd665e6ee664792efc4fd13           0.0              0.0  ...   \n",
       "0010bcc39e42b3c2131ed2ce55246e3c           0.0           1062.0  ...   \n",
       "0010ee3855fdea87602a5b7aba8e42de      728810.0         456462.0  ...   \n",
       "00114d74e963e47177db89bc70108537           0.0              0.0  ...   \n",
       "\n",
       "                                 margin_gross_pow_ele margin_net_pow_ele  \\\n",
       "id                                                                         \n",
       "0002203ffbb812588b632b9e628cc38d                43.08              43.08   \n",
       "0004351ebdd665e6ee664792efc4fd13                24.42              24.42   \n",
       "0010bcc39e42b3c2131ed2ce55246e3c                38.58              38.58   \n",
       "0010ee3855fdea87602a5b7aba8e42de                -2.80              -2.80   \n",
       "00114d74e963e47177db89bc70108537                29.76              29.76   \n",
       "\n",
       "                                 nb_prod_act net_margin  num_years_antig  \\\n",
       "id                                                                         \n",
       "0002203ffbb812588b632b9e628cc38d         1.0      81.42              6.0   \n",
       "0004351ebdd665e6ee664792efc4fd13         1.0      61.58              6.0   \n",
       "0010bcc39e42b3c2131ed2ce55246e3c         2.0      81.61              3.0   \n",
       "0010ee3855fdea87602a5b7aba8e42de         2.0     897.08              6.0   \n",
       "00114d74e963e47177db89bc70108537         1.0     157.99              6.0   \n",
       "\n",
       "                                                         origin_up  pow_max  \\\n",
       "id                                                                            \n",
       "0002203ffbb812588b632b9e628cc38d  kamkkxfxxuwbdslkwifmmcsiusiuosws   17.250   \n",
       "0004351ebdd665e6ee664792efc4fd13  kamkkxfxxuwbdslkwifmmcsiusiuosws   13.200   \n",
       "0010bcc39e42b3c2131ed2ce55246e3c  lxidpiddsbxsbosboudacockeimpuepw   13.856   \n",
       "0010ee3855fdea87602a5b7aba8e42de  kamkkxfxxuwbdslkwifmmcsiusiuosws   33.000   \n",
       "00114d74e963e47177db89bc70108537  kamkkxfxxuwbdslkwifmmcsiusiuosws   13.200   \n",
       "\n",
       "                                  isic_1l      zip  churn  \n",
       "id                                                         \n",
       "0002203ffbb812588b632b9e628cc38d        H  25182.0      0  \n",
       "0004351ebdd665e6ee664792efc4fd13        F  33779.0      0  \n",
       "0010bcc39e42b3c2131ed2ce55246e3c        M   9219.0      0  \n",
       "0010ee3855fdea87602a5b7aba8e42de        M  42240.0      0  \n",
       "00114d74e963e47177db89bc70108537        H  33519.0      0  \n",
       "\n",
       "[5 rows x 33 columns]"
      ]
     },
     "execution_count": 47,
     "metadata": {},
     "output_type": "execute_result"
    }
   ],
   "source": [
    "df_clean=train_imputed_final.copy()\n",
    "df_clean.head()"
   ]
  },
  {
   "cell_type": "code",
   "execution_count": 48,
   "metadata": {},
   "outputs": [
    {
     "data": {
      "text/plain": [
       "(16081, 33)"
      ]
     },
     "execution_count": 48,
     "metadata": {},
     "output_type": "execute_result"
    }
   ],
   "source": [
    "df_clean.shape"
   ]
  },
  {
   "cell_type": "code",
   "execution_count": 49,
   "metadata": {},
   "outputs": [
    {
     "data": {
      "text/plain": [
       "Index(['price_p1_var', 'price_p2_var', 'price_p3_var', 'price_p1_fix',\n",
       "       'price_p2_fix', 'price_p3_fix', 'channel_sales', 'cons_12m',\n",
       "       'cons_gas_12m', 'cons_last_month', 'date_activ', 'date_end',\n",
       "       'date_modif_prod', 'date_renewal', 'forecast_cons_12m',\n",
       "       'forecast_cons_year', 'forecast_discount_energy',\n",
       "       'forecast_meter_rent_12m', 'forecast_price_energy_p1',\n",
       "       'forecast_price_energy_p2', 'forecast_price_pow_p1', 'has_gas',\n",
       "       'imp_cons', 'margin_gross_pow_ele', 'margin_net_pow_ele', 'nb_prod_act',\n",
       "       'net_margin', 'num_years_antig', 'origin_up', 'pow_max', 'isic_1l',\n",
       "       'zip', 'churn'],\n",
       "      dtype='object')"
      ]
     },
     "execution_count": 49,
     "metadata": {},
     "output_type": "execute_result"
    }
   ],
   "source": [
    "df_clean.columns"
   ]
  },
  {
   "cell_type": "markdown",
   "metadata": {},
   "source": [
    "## 2.4 Ingeniería de características"
   ]
  },
  {
   "cell_type": "markdown",
   "metadata": {},
   "source": [
    "Vamos a continuación a proponer una serie de cambios en el conjunto de datos, centrados en la creación/modificación de las características de nuestro juego de datos. A este paso se le llama *feature engineering*."
   ]
  },
  {
   "cell_type": "markdown",
   "metadata": {},
   "source": [
    "#### Modificación de producto"
   ]
  },
  {
   "cell_type": "markdown",
   "metadata": {},
   "source": [
    "En primer lugar, nos vamos a fijar en la variable `date_modif_prod`, que codifica la última fecha de modificación del producto contratado.\n",
    "\n",
    "Podemos comprobar cuántos valores únicos tenemos para esa fecha (muchos) y cuántos nulos (no demasiados)."
   ]
  },
  {
   "cell_type": "code",
   "execution_count": 50,
   "metadata": {},
   "outputs": [
    {
     "name": "stdout",
     "output_type": "stream",
     "text": [
      "2308\n",
      "156\n"
     ]
    }
   ],
   "source": [
    "print(len(df_clean['date_modif_prod'].unique()))\n",
    "print(df_clean['date_modif_prod'].isnull().sum())"
   ]
  },
  {
   "cell_type": "markdown",
   "metadata": {},
   "source": [
    "A partir de esta variable podemos crear una nueva variable que represente, simplemente, si un cliente modificó el producto contratado (tenemos una fecha de este evento) o no."
   ]
  },
  {
   "cell_type": "code",
   "execution_count": 51,
   "metadata": {},
   "outputs": [
    {
     "name": "stdout",
     "output_type": "stream",
     "text": [
      "[1 0]\n",
      "0\n"
     ]
    }
   ],
   "source": [
    "df_clean['date_modif_prod_dummy']=np.where(df_clean['date_modif_prod'].isnull(), 0, 1)\n",
    "\n",
    "print(df_clean['date_modif_prod_dummy'].unique())\n",
    "print(df_clean['date_modif_prod_dummy'].isnull().sum())"
   ]
  },
  {
   "cell_type": "markdown",
   "metadata": {},
   "source": [
    "También podemos crear otra variable que represente el número de días transcurridos entre la modificación del contrato y la fecha de referencia del estudio."
   ]
  },
  {
   "cell_type": "code",
   "execution_count": 52,
   "metadata": {},
   "outputs": [],
   "source": [
    "ref_date=np.datetime64('2016-03-31')\n",
    "\n",
    "df_clean['date_modif_prod_days']=df_clean['date_modif_prod'].map(lambda x: (ref_date-x).days)\n",
    "df_clean['date_modif_prod_days']=df_clean['date_modif_prod_days'].fillna(0).astype(int)"
   ]
  },
  {
   "cell_type": "markdown",
   "metadata": {},
   "source": [
    "#### Renovación de contrato"
   ]
  },
  {
   "cell_type": "markdown",
   "metadata": {},
   "source": [
    "Podemos repetir la misma estrategia que con la fecha de modificación del producto, esta vez con la renovación del contrato."
   ]
  },
  {
   "cell_type": "code",
   "execution_count": 53,
   "metadata": {},
   "outputs": [
    {
     "name": "stdout",
     "output_type": "stream",
     "text": [
      "399\n",
      "40\n"
     ]
    }
   ],
   "source": [
    "print(len(df_clean['date_renewal'].unique()))\n",
    "print(df_clean['date_renewal'].isnull().sum())"
   ]
  },
  {
   "cell_type": "markdown",
   "metadata": {},
   "source": [
    "Primero creamos la variable que representa si hubo o no renovación."
   ]
  },
  {
   "cell_type": "code",
   "execution_count": 54,
   "metadata": {},
   "outputs": [
    {
     "name": "stdout",
     "output_type": "stream",
     "text": [
      "[1 0]\n",
      "0\n"
     ]
    }
   ],
   "source": [
    "df_clean['date_renewal_dummy']=np.where(df_clean['date_renewal'].isnull(), 0, 1)\n",
    "\n",
    "print(df_clean['date_renewal_dummy'].unique())\n",
    "print(df_clean['date_renewal_dummy'].isnull().sum())"
   ]
  },
  {
   "cell_type": "markdown",
   "metadata": {},
   "source": [
    "Y, a continuación, la que representa el número de días desde la renovación a la fecha de referencia."
   ]
  },
  {
   "cell_type": "code",
   "execution_count": 55,
   "metadata": {},
   "outputs": [],
   "source": [
    "df_clean['date_renewal_days']=df_clean['date_renewal'].map(lambda x: (ref_date-x).days)\n",
    "df_clean['date_renewal_days']=df_clean['date_renewal_days'].fillna(0).astype(int)"
   ]
  },
  {
   "cell_type": "markdown",
   "metadata": {},
   "source": [
    "#### Días transcurridos entre la modificación y la finalización del contrato"
   ]
  },
  {
   "cell_type": "markdown",
   "metadata": {},
   "source": [
    "En este caso vamos a añadir una característica que represente el número de días existentes entre la modificación del producto contratado y la fecha de finalización de contrato."
   ]
  },
  {
   "cell_type": "markdown",
   "metadata": {},
   "source": [
    "Como en casos anteriores, comprobamos valores únicos y nulos."
   ]
  },
  {
   "cell_type": "code",
   "execution_count": 56,
   "metadata": {},
   "outputs": [
    {
     "name": "stdout",
     "output_type": "stream",
     "text": [
      "2308\n",
      "156\n",
      "372\n",
      "2\n"
     ]
    }
   ],
   "source": [
    "print(len(df_clean['date_modif_prod'].unique()))\n",
    "print(df_clean['date_modif_prod'].isnull().sum())\n",
    "print(len(df_clean['date_end'].unique()))\n",
    "print(df_clean['date_end'].isnull().sum())"
   ]
  },
  {
   "cell_type": "markdown",
   "metadata": {},
   "source": [
    "Y ahora creamos la variable nueva:\n",
    "- La construimos como la diferencia entre las dos fechas.\n",
    "- Aplicamos una función *lambda* a cada elemento de la nueva columna para convertirlo en un número de días entero (en lugar de un *TimeDelta*).\n",
    "- Para aquellos valores nulos que pudieran existir (por faltar una u otra fecha) introducimos un 0.\n",
    "\n",
    "Finalmente, comprobamos con una instancia que el cálculo se ha hecho correctamente."
   ]
  },
  {
   "cell_type": "code",
   "execution_count": 57,
   "metadata": {},
   "outputs": [
    {
     "name": "stdout",
     "output_type": "stream",
     "text": [
      "2016-06-29 00:00:00\n",
      "2015-06-29 00:00:00\n",
      "366\n"
     ]
    }
   ],
   "source": [
    "df_clean['date_end_vs_modif']=df_clean['date_end']-df_clean['date_modif_prod']\n",
    "\n",
    "df_clean['date_end_vs_modif']=df_clean['date_end_vs_modif'].apply(lambda x: x.days)\n",
    "\n",
    "df_clean['date_end_vs_modif']=df_clean['date_end_vs_modif'].fillna(0).astype(int)\n",
    "\n",
    "print(df_clean['date_end'][10])\n",
    "print(df_clean['date_modif_prod'][10])\n",
    "print(df_clean['date_end_vs_modif'][10])"
   ]
  },
  {
   "cell_type": "markdown",
   "metadata": {},
   "source": [
    "#### Canal de compras"
   ]
  },
  {
   "cell_type": "markdown",
   "metadata": {},
   "source": [
    "La variable canal de compras del producto contratado es una variable categórica con 7 posibles valores, más unas cuantas instancias que tienen un valor nulo para la misma. De estas siete categorías, 3 tienen muy pocas instancias con esos valores, por lo que son candidatas a ser fusionadas en una única categoría, llegado el caso, y dependiendo del algoritmo utilizado en la fase de modelado."
   ]
  },
  {
   "cell_type": "markdown",
   "metadata": {},
   "source": [
    "Comencemos viendo las distintas categorías y sus frecuencias."
   ]
  },
  {
   "cell_type": "code",
   "execution_count": 58,
   "metadata": {},
   "outputs": [
    {
     "data": {
      "text/plain": [
       "foosdfpfkusacimwkcsosbicdxkicaua    7371\n",
       "lmkebamcaaclubfxadlmueccxoimlema    2070\n",
       "usilxuppasemubllopkaafesmlibmsdf    1444\n",
       "ewpakwlliwisiwduibdlfmalxowmwpci     966\n",
       "sddiedcslfslkckwlfkdpoeeailfpeds      12\n",
       "epumfxlbckeskwekxbiuasklxalciiuu       4\n",
       "fixdbufsefwooaasfcxdxadsiekoceaa       2\n",
       "Name: channel_sales, dtype: int64"
      ]
     },
     "execution_count": 58,
     "metadata": {},
     "output_type": "execute_result"
    }
   ],
   "source": [
    "df_clean['channel_sales'].value_counts()"
   ]
  },
  {
   "cell_type": "markdown",
   "metadata": {},
   "source": [
    "También podemos observar la proporción de nulos."
   ]
  },
  {
   "cell_type": "code",
   "execution_count": 59,
   "metadata": {},
   "outputs": [
    {
     "data": {
      "text/plain": [
       "4212"
      ]
     },
     "execution_count": 59,
     "metadata": {},
     "output_type": "execute_result"
    }
   ],
   "source": [
    "np.sum(df_clean['channel_sales'].isnull())"
   ]
  },
  {
   "cell_type": "markdown",
   "metadata": {},
   "source": [
    "Para poder integrar esta variable en nuestros modelos, deberemos llevar a cabo una recodificación con variables *dummy*. Como los nombres no son m uy descriptivos, asignaremos nuestros propios nombres, numerados consecutivamente. Para las instancias con valores nulos, crearemos una variable *dummy* específica.\n",
    "\n",
    "Por último, la numeración recogida a continuación respeta el orden de la tabla de frecuencias de más arriba: *channel_1* es el canal con más ventas, etc."
   ]
  },
  {
   "cell_type": "code",
   "execution_count": 60,
   "metadata": {},
   "outputs": [
    {
     "data": {
      "text/html": [
       "<div>\n",
       "<style scoped>\n",
       "    .dataframe tbody tr th:only-of-type {\n",
       "        vertical-align: middle;\n",
       "    }\n",
       "\n",
       "    .dataframe tbody tr th {\n",
       "        vertical-align: top;\n",
       "    }\n",
       "\n",
       "    .dataframe thead th {\n",
       "        text-align: right;\n",
       "    }\n",
       "</style>\n",
       "<table border=\"1\" class=\"dataframe\">\n",
       "  <thead>\n",
       "    <tr style=\"text-align: right;\">\n",
       "      <th></th>\n",
       "      <th>channel_1</th>\n",
       "      <th>channel_2</th>\n",
       "      <th>channel_3</th>\n",
       "      <th>channel_4</th>\n",
       "      <th>channel_5</th>\n",
       "      <th>channel_6</th>\n",
       "      <th>channel_7</th>\n",
       "      <th>channel_unknown</th>\n",
       "    </tr>\n",
       "    <tr>\n",
       "      <th>id</th>\n",
       "      <th></th>\n",
       "      <th></th>\n",
       "      <th></th>\n",
       "      <th></th>\n",
       "      <th></th>\n",
       "      <th></th>\n",
       "      <th></th>\n",
       "      <th></th>\n",
       "    </tr>\n",
       "  </thead>\n",
       "  <tbody>\n",
       "    <tr>\n",
       "      <th>0002203ffbb812588b632b9e628cc38d</th>\n",
       "      <td>1</td>\n",
       "      <td>0</td>\n",
       "      <td>0</td>\n",
       "      <td>0</td>\n",
       "      <td>0</td>\n",
       "      <td>0</td>\n",
       "      <td>0</td>\n",
       "      <td>0</td>\n",
       "    </tr>\n",
       "    <tr>\n",
       "      <th>0004351ebdd665e6ee664792efc4fd13</th>\n",
       "      <td>0</td>\n",
       "      <td>0</td>\n",
       "      <td>0</td>\n",
       "      <td>0</td>\n",
       "      <td>0</td>\n",
       "      <td>0</td>\n",
       "      <td>0</td>\n",
       "      <td>1</td>\n",
       "    </tr>\n",
       "    <tr>\n",
       "      <th>0010bcc39e42b3c2131ed2ce55246e3c</th>\n",
       "      <td>0</td>\n",
       "      <td>0</td>\n",
       "      <td>1</td>\n",
       "      <td>0</td>\n",
       "      <td>0</td>\n",
       "      <td>0</td>\n",
       "      <td>0</td>\n",
       "      <td>0</td>\n",
       "    </tr>\n",
       "    <tr>\n",
       "      <th>0010ee3855fdea87602a5b7aba8e42de</th>\n",
       "      <td>0</td>\n",
       "      <td>1</td>\n",
       "      <td>0</td>\n",
       "      <td>0</td>\n",
       "      <td>0</td>\n",
       "      <td>0</td>\n",
       "      <td>0</td>\n",
       "      <td>0</td>\n",
       "    </tr>\n",
       "    <tr>\n",
       "      <th>00114d74e963e47177db89bc70108537</th>\n",
       "      <td>0</td>\n",
       "      <td>0</td>\n",
       "      <td>0</td>\n",
       "      <td>1</td>\n",
       "      <td>0</td>\n",
       "      <td>0</td>\n",
       "      <td>0</td>\n",
       "      <td>0</td>\n",
       "    </tr>\n",
       "    <tr>\n",
       "      <th>...</th>\n",
       "      <td>...</td>\n",
       "      <td>...</td>\n",
       "      <td>...</td>\n",
       "      <td>...</td>\n",
       "      <td>...</td>\n",
       "      <td>...</td>\n",
       "      <td>...</td>\n",
       "      <td>...</td>\n",
       "    </tr>\n",
       "    <tr>\n",
       "      <th>ffef185810e44254c3a4c6395e6b4d8a</th>\n",
       "      <td>1</td>\n",
       "      <td>0</td>\n",
       "      <td>0</td>\n",
       "      <td>0</td>\n",
       "      <td>0</td>\n",
       "      <td>0</td>\n",
       "      <td>0</td>\n",
       "      <td>0</td>\n",
       "    </tr>\n",
       "    <tr>\n",
       "      <th>fffac626da707b1b5ab11e8431a4d0a2</th>\n",
       "      <td>0</td>\n",
       "      <td>0</td>\n",
       "      <td>0</td>\n",
       "      <td>1</td>\n",
       "      <td>0</td>\n",
       "      <td>0</td>\n",
       "      <td>0</td>\n",
       "      <td>0</td>\n",
       "    </tr>\n",
       "    <tr>\n",
       "      <th>fffc0cacd305dd51f316424bbb08d1bd</th>\n",
       "      <td>1</td>\n",
       "      <td>0</td>\n",
       "      <td>0</td>\n",
       "      <td>0</td>\n",
       "      <td>0</td>\n",
       "      <td>0</td>\n",
       "      <td>0</td>\n",
       "      <td>0</td>\n",
       "    </tr>\n",
       "    <tr>\n",
       "      <th>fffe4f5646aa39c7f97f95ae2679ce64</th>\n",
       "      <td>0</td>\n",
       "      <td>0</td>\n",
       "      <td>0</td>\n",
       "      <td>0</td>\n",
       "      <td>0</td>\n",
       "      <td>0</td>\n",
       "      <td>0</td>\n",
       "      <td>1</td>\n",
       "    </tr>\n",
       "    <tr>\n",
       "      <th>ffff7fa066f1fb305ae285bb03bf325a</th>\n",
       "      <td>1</td>\n",
       "      <td>0</td>\n",
       "      <td>0</td>\n",
       "      <td>0</td>\n",
       "      <td>0</td>\n",
       "      <td>0</td>\n",
       "      <td>0</td>\n",
       "      <td>0</td>\n",
       "    </tr>\n",
       "  </tbody>\n",
       "</table>\n",
       "<p>16081 rows × 8 columns</p>\n",
       "</div>"
      ],
      "text/plain": [
       "                                  channel_1  channel_2  channel_3  channel_4  \\\n",
       "id                                                                             \n",
       "0002203ffbb812588b632b9e628cc38d          1          0          0          0   \n",
       "0004351ebdd665e6ee664792efc4fd13          0          0          0          0   \n",
       "0010bcc39e42b3c2131ed2ce55246e3c          0          0          1          0   \n",
       "0010ee3855fdea87602a5b7aba8e42de          0          1          0          0   \n",
       "00114d74e963e47177db89bc70108537          0          0          0          1   \n",
       "...                                     ...        ...        ...        ...   \n",
       "ffef185810e44254c3a4c6395e6b4d8a          1          0          0          0   \n",
       "fffac626da707b1b5ab11e8431a4d0a2          0          0          0          1   \n",
       "fffc0cacd305dd51f316424bbb08d1bd          1          0          0          0   \n",
       "fffe4f5646aa39c7f97f95ae2679ce64          0          0          0          0   \n",
       "ffff7fa066f1fb305ae285bb03bf325a          1          0          0          0   \n",
       "\n",
       "                                  channel_5  channel_6  channel_7  \\\n",
       "id                                                                  \n",
       "0002203ffbb812588b632b9e628cc38d          0          0          0   \n",
       "0004351ebdd665e6ee664792efc4fd13          0          0          0   \n",
       "0010bcc39e42b3c2131ed2ce55246e3c          0          0          0   \n",
       "0010ee3855fdea87602a5b7aba8e42de          0          0          0   \n",
       "00114d74e963e47177db89bc70108537          0          0          0   \n",
       "...                                     ...        ...        ...   \n",
       "ffef185810e44254c3a4c6395e6b4d8a          0          0          0   \n",
       "fffac626da707b1b5ab11e8431a4d0a2          0          0          0   \n",
       "fffc0cacd305dd51f316424bbb08d1bd          0          0          0   \n",
       "fffe4f5646aa39c7f97f95ae2679ce64          0          0          0   \n",
       "ffff7fa066f1fb305ae285bb03bf325a          0          0          0   \n",
       "\n",
       "                                  channel_unknown  \n",
       "id                                                 \n",
       "0002203ffbb812588b632b9e628cc38d                0  \n",
       "0004351ebdd665e6ee664792efc4fd13                1  \n",
       "0010bcc39e42b3c2131ed2ce55246e3c                0  \n",
       "0010ee3855fdea87602a5b7aba8e42de                0  \n",
       "00114d74e963e47177db89bc70108537                0  \n",
       "...                                           ...  \n",
       "ffef185810e44254c3a4c6395e6b4d8a                0  \n",
       "fffac626da707b1b5ab11e8431a4d0a2                0  \n",
       "fffc0cacd305dd51f316424bbb08d1bd                0  \n",
       "fffe4f5646aa39c7f97f95ae2679ce64                1  \n",
       "ffff7fa066f1fb305ae285bb03bf325a                0  \n",
       "\n",
       "[16081 rows x 8 columns]"
      ]
     },
     "execution_count": 60,
     "metadata": {},
     "output_type": "execute_result"
    }
   ],
   "source": [
    "channel_dummies=pd.get_dummies(df_clean['channel_sales'])\n",
    "\n",
    "channel_dummies.columns=['channel_6', 'channel_4', 'channel_7', 'channel_1', 'channel_2', 'channel_5', 'channel_3']\n",
    "channel_dummies.sort_index(axis=1, inplace=True)\n",
    "\n",
    "channel_dummies['channel_unknown']=np.where(df_clean['channel_sales'].isnull(), 1, 0)\n",
    "channel_dummies"
   ]
  },
  {
   "cell_type": "markdown",
   "metadata": {},
   "source": [
    "Nos aseguramos de que tenemos tantos unos en estas variables como instancias:"
   ]
  },
  {
   "cell_type": "code",
   "execution_count": 61,
   "metadata": {},
   "outputs": [
    {
     "data": {
      "text/plain": [
       "16081"
      ]
     },
     "execution_count": 61,
     "metadata": {},
     "output_type": "execute_result"
    }
   ],
   "source": [
    "np.sum(channel_dummies.values)\n"
   ]
  },
  {
   "cell_type": "markdown",
   "metadata": {},
   "source": [
    "Y combinamos la información con el *dataset* original, usando los índices como clave para el *merge*. Más adelante eliminaremos, junto a otras, la variable original, redundante a partir de este momento."
   ]
  },
  {
   "cell_type": "code",
   "execution_count": 62,
   "metadata": {},
   "outputs": [],
   "source": [
    "df_clean=df_clean.merge(channel_dummies, left_index=True, right_index=True)"
   ]
  },
  {
   "cell_type": "markdown",
   "metadata": {},
   "source": [
    "#### Clientes en último año de contrato"
   ]
  },
  {
   "cell_type": "markdown",
   "metadata": {},
   "source": [
    "Otro factor que, potencialmente, podría influir en que un cliente deje la compañía es que se acerque al final de la duración media de su contrato. Haciendo un análisis sobre parte de los datos, podríamos deducir una duración media de en torno a 5 años (si bien es cierto que este estudio habría que hacerlo con más rigurosidad).\n",
    "\n",
    "Por ejemplo:"
   ]
  },
  {
   "cell_type": "code",
   "execution_count": 63,
   "metadata": {
    "colab": {
     "base_uri": "https://localhost:8080/",
     "height": 80
    },
    "id": "aware-thomas",
    "outputId": "eae9325c-e884-404f-ffb4-8efc0e87ef67"
   },
   "outputs": [
    {
     "data": {
      "text/plain": [
       "date_activ         2009-09-15 00:00:00\n",
       "date_end           2016-06-29 00:00:00\n",
       "date_modif_prod    2015-06-29 00:00:00\n",
       "date_renewal       2014-09-16 00:00:00\n",
       "num_years_antig                    6.0\n",
       "Name: 001cb880d847a0b63b404a48e50aec17, dtype: object"
      ]
     },
     "execution_count": 63,
     "metadata": {},
     "output_type": "execute_result"
    }
   ],
   "source": [
    "df_clean[['date_activ', 'date_end', 'date_modif_prod', 'date_renewal', 'num_years_antig']].iloc[10]"
   ]
  },
  {
   "cell_type": "markdown",
   "metadata": {
    "id": "disabled-karma"
   },
   "source": [
    "Por lo tanto, podemos crear una nueva variable que etiquete a aquellos clientes que están en su último año de contrato asumiendo esa duración media de 5 años."
   ]
  },
  {
   "cell_type": "code",
   "execution_count": 64,
   "metadata": {
    "colab": {
     "base_uri": "https://localhost:8080/"
    },
    "id": "facial-radio",
    "outputId": "fd9cde27-0578-484a-887c-cd2b549a9c6d"
   },
   "outputs": [
    {
     "name": "stdout",
     "output_type": "stream",
     "text": [
      "0    11646\n",
      "1     4435\n",
      "Name: arriving_contract_end, dtype: int64\n"
     ]
    }
   ],
   "source": [
    "df_clean['arriving_contract_end']=np.where((train_df['num_years_antig']%5)>=4, 1, 0)\n",
    "\n",
    "print(df_clean['arriving_contract_end'].value_counts())"
   ]
  },
  {
   "cell_type": "markdown",
   "metadata": {},
   "source": [
    "#### Código de la campaña de captación"
   ]
  },
  {
   "cell_type": "markdown",
   "metadata": {},
   "source": [
    "De manera similar a como ocurría con la variable canal de ventas, esta variable es categórica y codifica, con un *hash*, el código de la campaña de captación a través de la cual el cliente se dio de alta en la compañía. También de manera similar, dos de las campañas tienen muy pocas instancias y podrían ser fusionadas (o, incluso, las instancias descartadas) y algunos valores nulos."
   ]
  },
  {
   "cell_type": "markdown",
   "metadata": {},
   "source": [
    "Comprobamos las categorías y sus frecuencias."
   ]
  },
  {
   "cell_type": "code",
   "execution_count": 65,
   "metadata": {},
   "outputs": [
    {
     "data": {
      "text/plain": [
       "lxidpiddsbxsbosboudacockeimpuepw    7819\n",
       "kamkkxfxxuwbdslkwifmmcsiusiuosws    4511\n",
       "ldkssxwpmemidmecebumciepifcamkci    3661\n",
       "usapbepcfoloekilkwsdiboslwaxobdp       2\n",
       "ewxeelcelemmiwuafmddpobolfuxioce       1\n",
       "Name: origin_up, dtype: int64"
      ]
     },
     "execution_count": 65,
     "metadata": {},
     "output_type": "execute_result"
    }
   ],
   "source": [
    "df_clean['origin_up'].value_counts()"
   ]
  },
  {
   "cell_type": "markdown",
   "metadata": {},
   "source": [
    "Y la presencia de nulos."
   ]
  },
  {
   "cell_type": "code",
   "execution_count": 66,
   "metadata": {},
   "outputs": [
    {
     "data": {
      "text/plain": [
       "87"
      ]
     },
     "execution_count": 66,
     "metadata": {},
     "output_type": "execute_result"
    }
   ],
   "source": [
    "np.sum(df_clean['origin_up'].isnull())"
   ]
  },
  {
   "cell_type": "markdown",
   "metadata": {},
   "source": [
    "Recodificamos las variables, de manera similar a como lo hicimos con la variable canal de venta."
   ]
  },
  {
   "cell_type": "code",
   "execution_count": 67,
   "metadata": {},
   "outputs": [
    {
     "data": {
      "text/html": [
       "<div>\n",
       "<style scoped>\n",
       "    .dataframe tbody tr th:only-of-type {\n",
       "        vertical-align: middle;\n",
       "    }\n",
       "\n",
       "    .dataframe tbody tr th {\n",
       "        vertical-align: top;\n",
       "    }\n",
       "\n",
       "    .dataframe thead th {\n",
       "        text-align: right;\n",
       "    }\n",
       "</style>\n",
       "<table border=\"1\" class=\"dataframe\">\n",
       "  <thead>\n",
       "    <tr style=\"text-align: right;\">\n",
       "      <th></th>\n",
       "      <th>origin_1</th>\n",
       "      <th>origin_2</th>\n",
       "      <th>origin_3</th>\n",
       "      <th>origin_4</th>\n",
       "      <th>origin_5</th>\n",
       "      <th>origin_unknown</th>\n",
       "    </tr>\n",
       "    <tr>\n",
       "      <th>id</th>\n",
       "      <th></th>\n",
       "      <th></th>\n",
       "      <th></th>\n",
       "      <th></th>\n",
       "      <th></th>\n",
       "      <th></th>\n",
       "    </tr>\n",
       "  </thead>\n",
       "  <tbody>\n",
       "    <tr>\n",
       "      <th>0002203ffbb812588b632b9e628cc38d</th>\n",
       "      <td>0</td>\n",
       "      <td>1</td>\n",
       "      <td>0</td>\n",
       "      <td>0</td>\n",
       "      <td>0</td>\n",
       "      <td>0</td>\n",
       "    </tr>\n",
       "    <tr>\n",
       "      <th>0004351ebdd665e6ee664792efc4fd13</th>\n",
       "      <td>0</td>\n",
       "      <td>1</td>\n",
       "      <td>0</td>\n",
       "      <td>0</td>\n",
       "      <td>0</td>\n",
       "      <td>0</td>\n",
       "    </tr>\n",
       "    <tr>\n",
       "      <th>0010bcc39e42b3c2131ed2ce55246e3c</th>\n",
       "      <td>1</td>\n",
       "      <td>0</td>\n",
       "      <td>0</td>\n",
       "      <td>0</td>\n",
       "      <td>0</td>\n",
       "      <td>0</td>\n",
       "    </tr>\n",
       "    <tr>\n",
       "      <th>0010ee3855fdea87602a5b7aba8e42de</th>\n",
       "      <td>0</td>\n",
       "      <td>1</td>\n",
       "      <td>0</td>\n",
       "      <td>0</td>\n",
       "      <td>0</td>\n",
       "      <td>0</td>\n",
       "    </tr>\n",
       "    <tr>\n",
       "      <th>00114d74e963e47177db89bc70108537</th>\n",
       "      <td>0</td>\n",
       "      <td>1</td>\n",
       "      <td>0</td>\n",
       "      <td>0</td>\n",
       "      <td>0</td>\n",
       "      <td>0</td>\n",
       "    </tr>\n",
       "    <tr>\n",
       "      <th>...</th>\n",
       "      <td>...</td>\n",
       "      <td>...</td>\n",
       "      <td>...</td>\n",
       "      <td>...</td>\n",
       "      <td>...</td>\n",
       "      <td>...</td>\n",
       "    </tr>\n",
       "    <tr>\n",
       "      <th>ffef185810e44254c3a4c6395e6b4d8a</th>\n",
       "      <td>1</td>\n",
       "      <td>0</td>\n",
       "      <td>0</td>\n",
       "      <td>0</td>\n",
       "      <td>0</td>\n",
       "      <td>0</td>\n",
       "    </tr>\n",
       "    <tr>\n",
       "      <th>fffac626da707b1b5ab11e8431a4d0a2</th>\n",
       "      <td>1</td>\n",
       "      <td>0</td>\n",
       "      <td>0</td>\n",
       "      <td>0</td>\n",
       "      <td>0</td>\n",
       "      <td>0</td>\n",
       "    </tr>\n",
       "    <tr>\n",
       "      <th>fffc0cacd305dd51f316424bbb08d1bd</th>\n",
       "      <td>1</td>\n",
       "      <td>0</td>\n",
       "      <td>0</td>\n",
       "      <td>0</td>\n",
       "      <td>0</td>\n",
       "      <td>0</td>\n",
       "    </tr>\n",
       "    <tr>\n",
       "      <th>fffe4f5646aa39c7f97f95ae2679ce64</th>\n",
       "      <td>1</td>\n",
       "      <td>0</td>\n",
       "      <td>0</td>\n",
       "      <td>0</td>\n",
       "      <td>0</td>\n",
       "      <td>0</td>\n",
       "    </tr>\n",
       "    <tr>\n",
       "      <th>ffff7fa066f1fb305ae285bb03bf325a</th>\n",
       "      <td>1</td>\n",
       "      <td>0</td>\n",
       "      <td>0</td>\n",
       "      <td>0</td>\n",
       "      <td>0</td>\n",
       "      <td>0</td>\n",
       "    </tr>\n",
       "  </tbody>\n",
       "</table>\n",
       "<p>16081 rows × 6 columns</p>\n",
       "</div>"
      ],
      "text/plain": [
       "                                  origin_1  origin_2  origin_3  origin_4  \\\n",
       "id                                                                         \n",
       "0002203ffbb812588b632b9e628cc38d         0         1         0         0   \n",
       "0004351ebdd665e6ee664792efc4fd13         0         1         0         0   \n",
       "0010bcc39e42b3c2131ed2ce55246e3c         1         0         0         0   \n",
       "0010ee3855fdea87602a5b7aba8e42de         0         1         0         0   \n",
       "00114d74e963e47177db89bc70108537         0         1         0         0   \n",
       "...                                    ...       ...       ...       ...   \n",
       "ffef185810e44254c3a4c6395e6b4d8a         1         0         0         0   \n",
       "fffac626da707b1b5ab11e8431a4d0a2         1         0         0         0   \n",
       "fffc0cacd305dd51f316424bbb08d1bd         1         0         0         0   \n",
       "fffe4f5646aa39c7f97f95ae2679ce64         1         0         0         0   \n",
       "ffff7fa066f1fb305ae285bb03bf325a         1         0         0         0   \n",
       "\n",
       "                                  origin_5  origin_unknown  \n",
       "id                                                          \n",
       "0002203ffbb812588b632b9e628cc38d         0               0  \n",
       "0004351ebdd665e6ee664792efc4fd13         0               0  \n",
       "0010bcc39e42b3c2131ed2ce55246e3c         0               0  \n",
       "0010ee3855fdea87602a5b7aba8e42de         0               0  \n",
       "00114d74e963e47177db89bc70108537         0               0  \n",
       "...                                    ...             ...  \n",
       "ffef185810e44254c3a4c6395e6b4d8a         0               0  \n",
       "fffac626da707b1b5ab11e8431a4d0a2         0               0  \n",
       "fffc0cacd305dd51f316424bbb08d1bd         0               0  \n",
       "fffe4f5646aa39c7f97f95ae2679ce64         0               0  \n",
       "ffff7fa066f1fb305ae285bb03bf325a         0               0  \n",
       "\n",
       "[16081 rows x 6 columns]"
      ]
     },
     "execution_count": 67,
     "metadata": {},
     "output_type": "execute_result"
    }
   ],
   "source": [
    "origin_dummies=pd.get_dummies(df_clean['origin_up'])\n",
    "\n",
    "origin_dummies.columns=['origin_5', 'origin_2', 'origin_3', 'origin_1', 'origin_4']\n",
    "origin_dummies.sort_index(axis=1, inplace=True)\n",
    "\n",
    "origin_dummies['origin_unknown']=np.where(df_clean['origin_up'].isnull(), 1, 0)\n",
    "origin_dummies"
   ]
  },
  {
   "cell_type": "markdown",
   "metadata": {},
   "source": [
    "Comprobamos que tengamos el número correcto de unos en nuestras variables *dummy*."
   ]
  },
  {
   "cell_type": "code",
   "execution_count": 68,
   "metadata": {},
   "outputs": [
    {
     "data": {
      "text/plain": [
       "16081"
      ]
     },
     "execution_count": 68,
     "metadata": {},
     "output_type": "execute_result"
    }
   ],
   "source": [
    "np.sum(origin_dummies.values)\n"
   ]
  },
  {
   "cell_type": "markdown",
   "metadata": {},
   "source": [
    "Combinamos las nuevas variables con el *dataset* original, de nuevo, usando el índice como clave."
   ]
  },
  {
   "cell_type": "code",
   "execution_count": 69,
   "metadata": {},
   "outputs": [],
   "source": [
    "df_clean=df_clean.merge(origin_dummies, left_index=True, right_index=True)"
   ]
  },
  {
   "cell_type": "markdown",
   "metadata": {},
   "source": [
    "Ahora vamos a examinar el *dataset* para comprobar que se han creado correctamente todas las nuevas variables."
   ]
  },
  {
   "cell_type": "code",
   "execution_count": 70,
   "metadata": {},
   "outputs": [
    {
     "name": "stdout",
     "output_type": "stream",
     "text": [
      "<class 'pandas.core.frame.DataFrame'>\n",
      "Index: 16081 entries, 0002203ffbb812588b632b9e628cc38d to ffff7fa066f1fb305ae285bb03bf325a\n",
      "Data columns (total 53 columns):\n",
      " #   Column                    Non-Null Count  Dtype         \n",
      "---  ------                    --------------  -----         \n",
      " 0   price_p1_var              16081 non-null  float64       \n",
      " 1   price_p2_var              16081 non-null  float64       \n",
      " 2   price_p3_var              16081 non-null  float64       \n",
      " 3   price_p1_fix              16081 non-null  float64       \n",
      " 4   price_p2_fix              16081 non-null  float64       \n",
      " 5   price_p3_fix              16081 non-null  float64       \n",
      " 6   channel_sales             11869 non-null  object        \n",
      " 7   cons_12m                  16081 non-null  float64       \n",
      " 8   cons_gas_12m              16081 non-null  float64       \n",
      " 9   cons_last_month           16081 non-null  float64       \n",
      " 10  date_activ                16081 non-null  datetime64[ns]\n",
      " 11  date_end                  16079 non-null  datetime64[ns]\n",
      " 12  date_modif_prod           15925 non-null  datetime64[ns]\n",
      " 13  date_renewal              16041 non-null  datetime64[ns]\n",
      " 14  forecast_cons_12m         16081 non-null  float64       \n",
      " 15  forecast_cons_year        16081 non-null  float64       \n",
      " 16  forecast_discount_energy  16081 non-null  float64       \n",
      " 17  forecast_meter_rent_12m   16081 non-null  float64       \n",
      " 18  forecast_price_energy_p1  16081 non-null  float64       \n",
      " 19  forecast_price_energy_p2  16081 non-null  float64       \n",
      " 20  forecast_price_pow_p1     16081 non-null  float64       \n",
      " 21  has_gas                   16081 non-null  object        \n",
      " 22  imp_cons                  16081 non-null  float64       \n",
      " 23  margin_gross_pow_ele      16081 non-null  float64       \n",
      " 24  margin_net_pow_ele        16081 non-null  float64       \n",
      " 25  nb_prod_act               16081 non-null  float64       \n",
      " 26  net_margin                16081 non-null  float64       \n",
      " 27  num_years_antig           16081 non-null  float64       \n",
      " 28  origin_up                 15994 non-null  object        \n",
      " 29  pow_max                   16081 non-null  float64       \n",
      " 30  isic_1l                   16081 non-null  object        \n",
      " 31  zip                       16081 non-null  float64       \n",
      " 32  churn                     16081 non-null  int64         \n",
      " 33  date_modif_prod_dummy     16081 non-null  int32         \n",
      " 34  date_modif_prod_days      16081 non-null  int32         \n",
      " 35  date_renewal_dummy        16081 non-null  int32         \n",
      " 36  date_renewal_days         16081 non-null  int32         \n",
      " 37  date_end_vs_modif         16081 non-null  int32         \n",
      " 38  channel_1                 16081 non-null  uint8         \n",
      " 39  channel_2                 16081 non-null  uint8         \n",
      " 40  channel_3                 16081 non-null  uint8         \n",
      " 41  channel_4                 16081 non-null  uint8         \n",
      " 42  channel_5                 16081 non-null  uint8         \n",
      " 43  channel_6                 16081 non-null  uint8         \n",
      " 44  channel_7                 16081 non-null  uint8         \n",
      " 45  channel_unknown           16081 non-null  int32         \n",
      " 46  arriving_contract_end     16081 non-null  int32         \n",
      " 47  origin_1                  16081 non-null  uint8         \n",
      " 48  origin_2                  16081 non-null  uint8         \n",
      " 49  origin_3                  16081 non-null  uint8         \n",
      " 50  origin_4                  16081 non-null  uint8         \n",
      " 51  origin_5                  16081 non-null  uint8         \n",
      " 52  origin_unknown            16081 non-null  int32         \n",
      "dtypes: datetime64[ns](4), float64(24), int32(8), int64(1), object(4), uint8(12)\n",
      "memory usage: 5.4+ MB\n"
     ]
    }
   ],
   "source": [
    "df_clean.info()"
   ]
  },
  {
   "cell_type": "markdown",
   "metadata": {},
   "source": [
    "Una vez hecho lo anterior, procedemos a eliminar toda aquellas variables que no vamos a utilizar."
   ]
  },
  {
   "cell_type": "markdown",
   "metadata": {},
   "source": [
    "Comenzaremos con las variables de tipo fecha, varias de las cuales hemos transformado en otras variables derivadas, por lo que esta información la incorporamos a través de éstas."
   ]
  },
  {
   "cell_type": "code",
   "execution_count": 71,
   "metadata": {},
   "outputs": [],
   "source": [
    "df_clean=df_clean.select_dtypes(exclude=['datetime64'])"
   ]
  },
  {
   "cell_type": "markdown",
   "metadata": {},
   "source": [
    "Eliminamos las variables *channel_sales* y *origin_up*, que hemos codificado con *dummies*."
   ]
  },
  {
   "cell_type": "code",
   "execution_count": 72,
   "metadata": {},
   "outputs": [],
   "source": [
    "df_clean=df_clean.drop(['channel_sales', 'origin_up'], axis=1)"
   ]
  },
  {
   "cell_type": "markdown",
   "metadata": {},
   "source": [
    "Ahora, usamos la función `get_dummies` las dos variables categóricas restantes: *has_gas* e *isic_1l*. Podemos usar directamente esta función de *pandas* al ser dos variables sin presencia de nulos y con nombres para las categorías lo suficientemente descriptivos (y cortos). Si no fuera el caso, deberíamos haber procedido como con *channel_sales* y *origin_up*."
   ]
  },
  {
   "cell_type": "code",
   "execution_count": 73,
   "metadata": {},
   "outputs": [],
   "source": [
    "df_clean=pd.get_dummies(df_clean)"
   ]
  },
  {
   "cell_type": "markdown",
   "metadata": {},
   "source": [
    "Por último, eliminamos el resto de variables que no vamos a utilizar (en este caso, sólo el código postal, porque las variables con muchos nulos las descartamos al principio)."
   ]
  },
  {
   "cell_type": "code",
   "execution_count": 74,
   "metadata": {},
   "outputs": [],
   "source": [
    "df_clean=df_clean.drop(['zip'], axis=1)"
   ]
  },
  {
   "cell_type": "markdown",
   "metadata": {},
   "source": [
    "Con nuestro *dataset* ya listo, vamos a hacer una copia (así, si metemos la pata más adelante, no tenemos que repetir todo el preprocesado y la creación de características)."
   ]
  },
  {
   "cell_type": "code",
   "execution_count": 75,
   "metadata": {},
   "outputs": [],
   "source": [
    "df_final=df_clean.copy()"
   ]
  },
  {
   "cell_type": "markdown",
   "metadata": {},
   "source": [
    "## División en conjunto de train y test\n",
    "\n",
    "Dividimos el conjunto de datos en conjunto de entrenamiento (75%) y prueba (25%)"
   ]
  },
  {
   "cell_type": "code",
   "execution_count": 76,
   "metadata": {},
   "outputs": [],
   "source": [
    "from sklearn.preprocessing import StandardScaler\n",
    "from sklearn.model_selection import train_test_split\n",
    "\n",
    "df_train, df_test = train_test_split(df_final, test_size=0.25, random_state=1)\n",
    "\n",
    "# separar del conjunto de entrenamiento y de prueba la varibale a clasificar\n",
    "y_train = df_train['churn']\n",
    "x_train = df_train.drop(columns=['churn'])\n",
    "y_test = df_test['churn']\n",
    "x_test = df_test.drop(columns=['churn'])\n",
    "\n",
    "# normalizar los datos\n",
    "sc = StandardScaler()\n",
    "sc.fit(x_train)\n",
    "x_train_std = sc.transform(x_train)\n",
    "x_test_std = sc.transform(x_test)"
   ]
  },
  {
   "cell_type": "markdown",
   "metadata": {},
   "source": [
    "## Modelo de referencia: regresión logística"
   ]
  },
  {
   "cell_type": "code",
   "execution_count": 77,
   "metadata": {},
   "outputs": [
    {
     "name": "stdout",
     "output_type": "stream",
     "text": [
      "Precisión: 0.5\n",
      "F1: 0.010126582278481015\n"
     ]
    }
   ],
   "source": [
    "from sklearn.metrics import precision_score\n",
    "from sklearn.metrics import f1_score\n",
    "from sklearn.linear_model import LogisticRegression\n",
    "\n",
    "# obtener el modelo\n",
    "clf = LogisticRegression(C=0.1, solver='liblinear')\n",
    "# se entrena el modelo\n",
    "clf.fit(x_train_std, y_train)\n",
    "# clasificar con el modelo los valores del conjunto de prueba\n",
    "y_pred = clf.predict(x_test_std)\n",
    "\n",
    "#utilizar los coeficientes de precisión y F1 para evaluar el modelo\n",
    "#puesto que la variable a clasificar está desbalanceada\n",
    "precision = precision_score(y_test, y_pred, average='binary')\n",
    "f1 = f1_score(y_test, y_pred, average='binary')\n",
    "print(f'Precisión: {precision}')\n",
    "print(f'F1: {f1}')"
   ]
  },
  {
   "cell_type": "code",
   "execution_count": 78,
   "metadata": {},
   "outputs": [
    {
     "data": {
      "image/png": "[encoded data removed]",
      "text/plain": [
       "<Figure size 432x288 with 2 Axes>"
      ]
     },
     "metadata": {},
     "output_type": "display_data"
    }
   ],
   "source": [
    "from sklearn.metrics import confusion_matrix, ConfusionMatrixDisplay\n",
    "cm = confusion_matrix(y_test, y_pred, labels=clf.classes_)\n",
    "disp = ConfusionMatrixDisplay(confusion_matrix=cm, display_labels=clf.classes_)\n",
    "disp.plot()\n",
    "plt.show()"
   ]
  },
  {
   "cell_type": "markdown",
   "metadata": {},
   "source": [
    "Del coeficiente F1 y la matriz de correlación se observa que el modelo de regresión logística con los datos iniciales no clasifica correctamente los clientes que abandonan el servicio, o sea, la clase 1 de la variable churn"
   ]
  },
  {
   "cell_type": "markdown",
   "metadata": {},
   "source": [
    "## Undersampling del conjunto de datos\n",
    "\n",
    "La variable churn es desbalanceada, es necesario hacer undersampling para obtener resultados del modelo más precisos"
   ]
  },
  {
   "cell_type": "code",
   "execution_count": 79,
   "metadata": {
    "tags": []
   },
   "outputs": [
    {
     "name": "stdout",
     "output_type": "stream",
     "text": [
      "No abandonan (0): 14494\n",
      "Abandonan (1): 1587\n",
      "Proporción de los valores de la variable churn: 0.10949358355181454\n"
     ]
    }
   ],
   "source": [
    "cero_churn, uno_churn = df_final['churn'].value_counts()\n",
    "print(f'No abandonan (0): {cero_churn}')\n",
    "print(f'Abandonan (1): {uno_churn}')\n",
    "print(f'Proporción de los valores de la variable churn: {uno_churn / cero_churn}')"
   ]
  },
  {
   "cell_type": "markdown",
   "metadata": {},
   "source": [
    "De la proporción calculada en la variable churn se comprueba que de cada 100 usuarios del servicio solo 10 abandonan."
   ]
  },
  {
   "cell_type": "code",
   "execution_count": 80,
   "metadata": {},
   "outputs": [],
   "source": [
    "#Undersampling aleatorio\n",
    "from imblearn.under_sampling import RandomUnderSampler\n",
    "\n",
    "#undersample = RandomUnderSampler(sampling_strategy='majority')\n",
    "undersample = RandomUnderSampler(sampling_strategy=0.5)\n",
    "x_train_under, y_train_under = undersample.fit_resample(x_train_std, y_train)"
   ]
  },
  {
   "cell_type": "code",
   "execution_count": 81,
   "metadata": {},
   "outputs": [],
   "source": [
    "# Near Miss undersampling\n",
    "# from imblearn.under_sampling import NearMiss\n",
    "\n",
    "# undersample = NearMiss(version=3, n_neighbors=3)\n",
    "# x_train_under, y_train_under = undersample.fit_resample(x_train_std, y_train)"
   ]
  },
  {
   "cell_type": "markdown",
   "metadata": {},
   "source": [
    "## Actualización del modelo de referencia"
   ]
  },
  {
   "cell_type": "code",
   "execution_count": 82,
   "metadata": {},
   "outputs": [
    {
     "name": "stdout",
     "output_type": "stream",
     "text": [
      "Precisión: 0.21602787456445993\n",
      "F1: 0.18289085545722714\n"
     ]
    }
   ],
   "source": [
    "# obtenemos el modelo\n",
    "clf = LogisticRegression(solver='liblinear')\n",
    "# se entrena el modelo con el conjunto de entrenamiento después de hacer el undersampling\n",
    "clf.fit(x_train_under, y_train_under)\n",
    "# clasificar con el modelo los valores del conjunto de prueba\n",
    "# al conjunto de prueba no se le hace undersampling\n",
    "y_pred = clf.predict(x_test_std)\n",
    "\n",
    "precision = precision_score(y_test, y_pred, average='binary')\n",
    "f1 = f1_score(y_test, y_pred, average='binary')\n",
    "print(f'Precisión: {precision}')\n",
    "print(f'F1: {f1}')"
   ]
  },
  {
   "cell_type": "code",
   "execution_count": 83,
   "metadata": {},
   "outputs": [
    {
     "name": "stdout",
     "output_type": "stream",
     "text": [
      "              precision    recall  f1-score   support\n",
      "\n",
      "           0       0.91      0.94      0.92      3630\n",
      "           1       0.22      0.16      0.18       391\n",
      "\n",
      "    accuracy                           0.86      4021\n",
      "   macro avg       0.56      0.55      0.55      4021\n",
      "weighted avg       0.84      0.86      0.85      4021\n",
      "\n",
      "               Predicted Churn  Predicted No Churn\n",
      "True Churn                3405                 225\n",
      "True No Churn              329                  62\n"
     ]
    }
   ],
   "source": [
    "from sklearn.metrics import classification_report\n",
    "\n",
    "print(classification_report(y_test, y_pred))\n",
    "\n",
    "conf=pd.DataFrame(\n",
    "    confusion_matrix(y_test, y_pred),\n",
    "    columns=['Predicted Churn', 'Predicted No Churn'],\n",
    "    index  =['True Churn', 'True No Churn']\n",
    ")\n",
    "print(conf)"
   ]
  },
  {
   "cell_type": "code",
   "execution_count": 84,
   "metadata": {},
   "outputs": [
    {
     "data": {
      "image/png": "[encoded data removed]",
      "text/plain": [
       "<Figure size 432x288 with 2 Axes>"
      ]
     },
     "metadata": {},
     "output_type": "display_data"
    }
   ],
   "source": [
    "cm = confusion_matrix(y_test, y_pred, labels=clf.classes_)\n",
    "disp = ConfusionMatrixDisplay(confusion_matrix=cm, display_labels=clf.classes_)\n",
    "disp.plot()\n",
    "plt.show()"
   ]
  },
  {
   "cell_type": "markdown",
   "metadata": {},
   "source": [
    "El modelo obtenido al hacer undersampling es mejor que el anterior teniendo en cuenta el coeficiente F1."
   ]
  },
  {
   "cell_type": "markdown",
   "metadata": {},
   "source": [
    "## Modelado con otros algoritmos"
   ]
  },
  {
   "cell_type": "markdown",
   "metadata": {},
   "source": [
    "### Árboles de decisión\n",
    "\n",
    "https://www.youtube.com/watch?v=ZVR2Way4nwQ"
   ]
  },
  {
   "cell_type": "code",
   "execution_count": 85,
   "metadata": {},
   "outputs": [
    {
     "name": "stdout",
     "output_type": "stream",
     "text": [
      "Precisión: 0.1846590909090909\n",
      "F1: 0.23744292237442924\n"
     ]
    }
   ],
   "source": [
    "from sklearn.tree import DecisionTreeClassifier\n",
    "\n",
    "# Crear el clasificador\n",
    "clf = DecisionTreeClassifier(max_depth=12, criterion=\"entropy\")\n",
    "# Entrenar con el conjunto de prueba\n",
    "clf = clf.fit(x_train_under, y_train_under)\n",
    "#clasificar con el modelo los valores del conjunto de prueba\n",
    "y_pred = clf.predict(x_test_std)\n",
    "\n",
    "precision = precision_score(y_test, y_pred, average='binary')\n",
    "f1 = f1_score(y_test, y_pred, average='binary')\n",
    "print(f'Precisión: {precision}')\n",
    "print(f'F1: {f1}')"
   ]
  },
  {
   "cell_type": "code",
   "execution_count": null,
   "metadata": {},
   "outputs": [],
   "source": [
    "from sklearn.ensemble import tree as t\n",
    "import graphviz\n",
    "\n",
    "dot_data=t.export_graphviz(clf, out_file=None, \n",
    "                        feature_names=x_test.columns,  \n",
    "                        class_names=[\"No Churn\", \"Churn\"],\n",
    "                        filled=True, rounded=True,  \n",
    "                        special_characters=True)  \n",
    "graph=graphviz.Source(dot_data)  \n",
    "graph "
   ]
  },
  {
   "cell_type": "markdown",
   "metadata": {},
   "source": [
    "### Random Forest\n",
    "\n",
    "https://www.youtube.com/watch?v=v6VJ2RO66Ag"
   ]
  },
  {
   "cell_type": "code",
   "execution_count": 96,
   "metadata": {},
   "outputs": [
    {
     "name": "stdout",
     "output_type": "stream",
     "text": [
      "Precisión: 0.27053140096618356\n",
      "F1: 0.2782608695652174\n"
     ]
    }
   ],
   "source": [
    "from sklearn.ensemble import RandomForestClassifier\n",
    "\n",
    "# Crear el clasificador\n",
    "clf=RandomForestClassifier(n_estimators=100)\n",
    "\n",
    "# Entrenar con el conjunto de prueba\n",
    "clf.fit(x_train_under, y_train_under)\n",
    "\n",
    "#clasificar con el modelo los valores del conjunto de prueba\n",
    "y_pred=clf.predict(x_test_std)\n",
    "\n",
    "precision = precision_score(y_test, y_pred, average='binary')\n",
    "f1 = f1_score(y_test, y_pred, average='binary')\n",
    "print(f'Precisión: {precision}')\n",
    "print(f'F1: {f1}')"
   ]
  },
  {
   "cell_type": "markdown",
   "metadata": {},
   "source": [
    "### Redes neuronales"
   ]
  },
  {
   "cell_type": "code",
   "execution_count": 97,
   "metadata": {},
   "outputs": [
    {
     "name": "stdout",
     "output_type": "stream",
     "text": [
      "Precisión: 0.24267782426778242\n",
      "F1: 0.18412698412698417\n"
     ]
    }
   ],
   "source": [
    "from sklearn.neural_network import MLPClassifier\n",
    "\n",
    "# Crear el clasificador\n",
    "clf = MLPClassifier(activation='logistic', solver='sgd', \n",
    "                    alpha=0.0001, learning_rate_init=0.002, max_iter=500)\n",
    "\n",
    "# Entrenar con el conjunto de prueba\n",
    "clf.fit(x_train_under, y_train_under)\n",
    "\n",
    "#clasificar con el modelo los valores del conjunto de prueba\n",
    "y_pred=clf.predict(x_test_std)\n",
    "\n",
    "precision = precision_score(y_test, y_pred, average='binary')\n",
    "f1 = f1_score(y_test, y_pred, average='binary')\n",
    "print(f'Precisión: {precision}')\n",
    "print(f'F1: {f1}')"
   ]
  },
  {
   "cell_type": "markdown",
   "metadata": {},
   "source": [
    "### Máquinas de vectores de soporte SVM"
   ]
  },
  {
   "cell_type": "code",
   "execution_count": 98,
   "metadata": {},
   "outputs": [
    {
     "name": "stdout",
     "output_type": "stream",
     "text": [
      "Precisión: 0.1724137931034483\n",
      "F1: 0.1468428781204112\n"
     ]
    }
   ],
   "source": [
    "from sklearn import svm\n",
    "\n",
    "# Crear el clasificador\n",
    "clf = svm.SVC(C=1.5, kernel='rbf') # además de ‘rbf’ se probó con los kernels ‘poly’, ‘rbf’, ‘sigmoid’, ‘precomputed’\n",
    "# Entrenar con el conjunto de prueba\n",
    "clf = clf.fit(x_train_under, y_train_under)\n",
    "#clasificar con el modelo los valores del conjunto de prueba\n",
    "y_pred = clf.predict(x_test_std)\n",
    "\n",
    "precision = precision_score(y_test, y_pred, average='binary')\n",
    "f1 = f1_score(y_test, y_pred, average='binary')\n",
    "print(f'Precisión: {precision}')\n",
    "print(f'F1: {f1}')"
   ]
  },
  {
   "cell_type": "markdown",
   "metadata": {
    "tags": []
   },
   "source": [
    "## Ajuste de hiper-parámetros\n",
    "\n",
    "- En el modelo de regresión logística usado como referencia se ajustaron los siguientes parámetros\n",
    "\n",
    "    https://scikit-learn.org/stable/modules/generated/sklearn.linear_model.LogisticRegression.html\n",
    "    - regularización (C) - 0.05\n",
    "    - algoritmo de optimización (solver) - liblinear\n",
    "\n",
    "Para hacer undersampling se ajustó la estrategia de muestreo, de una proporción 1:10 a una proporción 1:5.\n",
    "También se probaron otras estrategias como Near Miss con la diferentes versiones.\n",
    "\n",
    "- Al utilizar el modelo de árboles de decisión se ajustaron los siguientes parámetros\n",
    "\n",
    "    https://scikit-learn.org/stable/modules/generated/sklearn.tree.DecisionTreeClassifier.html\n",
    "     - profundidad máxima del árbol de búsqueda (max_depth) - 12\n",
    "     - criterio para medir la calidad de la división en el árbol (criterion) - entropy\n",
    "\n",
    "\n",
    "- Al utilizar máquinas de vectores soporte se ajustaron los parámetros\n",
    "\n",
    "    https://scikit-learn.org/stable/modules/generated/sklearn.svm.SVC.html\n",
    "     - kernel - rbf\n",
    "     - regularización (C) - 1.5"
   ]
  },
  {
   "cell_type": "markdown",
   "metadata": {},
   "source": [
    "## Selección de características"
   ]
  },
  {
   "cell_type": "markdown",
   "metadata": {},
   "source": [
    "Se trabaja en el DataFrame df_final"
   ]
  },
  {
   "cell_type": "code",
   "execution_count": 99,
   "metadata": {},
   "outputs": [
    {
     "data": {
      "text/plain": [
       "Index(['price_p1_var', 'price_p2_var', 'price_p3_var', 'price_p1_fix',\n",
       "       'price_p2_fix', 'price_p3_fix', 'cons_12m', 'cons_gas_12m',\n",
       "       'cons_last_month', 'forecast_cons_12m', 'forecast_cons_year',\n",
       "       'forecast_discount_energy', 'forecast_meter_rent_12m',\n",
       "       'forecast_price_energy_p1', 'forecast_price_energy_p2',\n",
       "       'forecast_price_pow_p1', 'imp_cons', 'margin_gross_pow_ele',\n",
       "       'margin_net_pow_ele', 'nb_prod_act', 'net_margin', 'num_years_antig',\n",
       "       'pow_max', 'churn', 'date_modif_prod_dummy', 'date_modif_prod_days',\n",
       "       'date_renewal_dummy', 'date_renewal_days', 'date_end_vs_modif',\n",
       "       'channel_1', 'channel_2', 'channel_3', 'channel_4', 'channel_5',\n",
       "       'channel_6', 'channel_7', 'channel_unknown', 'arriving_contract_end',\n",
       "       'origin_1', 'origin_2', 'origin_3', 'origin_4', 'origin_5',\n",
       "       'origin_unknown', 'has_gas_f', 'has_gas_t', 'isic_1l_A', 'isic_1l_B',\n",
       "       'isic_1l_C', 'isic_1l_D', 'isic_1l_E', 'isic_1l_F', 'isic_1l_G',\n",
       "       'isic_1l_H', 'isic_1l_I', 'isic_1l_J', 'isic_1l_K', 'isic_1l_L',\n",
       "       'isic_1l_M', 'isic_1l_N', 'isic_1l_O', 'isic_1l_P', 'isic_1l_Q',\n",
       "       'isic_1l_R', 'isic_1l_S'],\n",
       "      dtype='object')"
      ]
     },
     "execution_count": 99,
     "metadata": {},
     "output_type": "execute_result"
    }
   ],
   "source": [
    "df_final=df_clean.copy()\n",
    "df_final.columns"
   ]
  },
  {
   "cell_type": "markdown",
   "metadata": {},
   "source": [
    "Se crea la lista seleccion con las variables: isic_1l, Isic_2l y origin_up. Después se aplica  df_final drop de la lista seleccion. "
   ]
  },
  {
   "cell_type": "code",
   "execution_count": 100,
   "metadata": {},
   "outputs": [],
   "source": [
    "seleccion = ['isic_1l_A', 'isic_1l_B', 'isic_1l_C', 'isic_1l_D', 'isic_1l_E', 'isic_1l_F', 'isic_1l_G', 'isic_1l_H',\n",
    "       'isic_1l_I', 'isic_1l_J', 'isic_1l_K', 'isic_1l_L', 'isic_1l_M',\n",
    "       'isic_1l_N', 'isic_1l_O', 'isic_1l_P', 'isic_1l_Q', 'isic_1l_R', 'isic_1l_S', 'origin_5', 'origin_2', 'origin_3', \n",
    "       'origin_1', 'origin_4']\n",
    "df_final.drop(columns=seleccion, inplace=True)"
   ]
  },
  {
   "cell_type": "code",
   "execution_count": 101,
   "metadata": {},
   "outputs": [
    {
     "data": {
      "text/plain": [
       "Index(['price_p1_var', 'price_p2_var', 'price_p3_var', 'price_p1_fix',\n",
       "       'price_p2_fix', 'price_p3_fix', 'cons_12m', 'cons_gas_12m',\n",
       "       'cons_last_month', 'forecast_cons_12m', 'forecast_cons_year',\n",
       "       'forecast_discount_energy', 'forecast_meter_rent_12m',\n",
       "       'forecast_price_energy_p1', 'forecast_price_energy_p2',\n",
       "       'forecast_price_pow_p1', 'imp_cons', 'margin_gross_pow_ele',\n",
       "       'margin_net_pow_ele', 'nb_prod_act', 'net_margin', 'num_years_antig',\n",
       "       'pow_max', 'churn', 'date_modif_prod_dummy', 'date_modif_prod_days',\n",
       "       'date_renewal_dummy', 'date_renewal_days', 'date_end_vs_modif',\n",
       "       'channel_1', 'channel_2', 'channel_3', 'channel_4', 'channel_5',\n",
       "       'channel_6', 'channel_7', 'channel_unknown', 'arriving_contract_end',\n",
       "       'origin_unknown', 'has_gas_f', 'has_gas_t'],\n",
       "      dtype='object')"
      ]
     },
     "execution_count": 101,
     "metadata": {},
     "output_type": "execute_result"
    }
   ],
   "source": [
    "df_final.columns"
   ]
  },
  {
   "cell_type": "markdown",
   "metadata": {},
   "source": [
    "Se ha comprobado que quitando las características isic_1l, Isic_2l y origin_up se mejora en la precisión del modelo, unque no tanto en su desempeño general de acuerdo al coeficiente F1."
   ]
  },
  {
   "cell_type": "markdown",
   "metadata": {},
   "source": [
    "## Interpretación de los modelos"
   ]
  },
  {
   "cell_type": "markdown",
   "metadata": {},
   "source": [
    "El modelo de regresión logística tomado como referencia inicial, sin hacer undersampling tiene un desempeño bastante malo. Como se muestra en la matriz de confusión, de los clientes que dejan el servicio solo es capáz de identificar 1 de 391 que realmente lo abandona incluídos en el conjunto de prueba.\n",
    "\n",
    "Al aplicar la técnica de undersampling y actualizar el modelo de referencia se logra aumentar la precisión del modelo, logrando indentificar 44 de los 391 incluídos en el conjunto de prueba.\n",
    "\n",
    "Con los árboles de decisión el resultado anterior no mejora luego de actualizar los parámetros del modelo. Por otra parte, al utilizar las máquinas de vectores de soporte se obtiene una mejor precisión aunque le desempeño del modelo de manera general sigue siendo el mismo de acuerdo al coeficiente F1."
   ]
  },
  {
   "cell_type": "code",
   "execution_count": null,
   "metadata": {},
   "outputs": [],
   "source": []
  }
 ],
 "metadata": {
  "jupytext": {
   "encoding": "# -*- coding: utf-8 -*-",
   "formats": "ipynb,py:percent"
  },
  "kernelspec": {
   "display_name": "Python 3 (ipykernel)",
   "language": "python",
   "name": "python3"
  },
  "language_info": {
   "codemirror_mode": {
    "name": "ipython",
    "version": 3
   },
   "file_extension": ".py",
   "mimetype": "text/x-python",
   "name": "python",
   "nbconvert_exporter": "python",
   "pygments_lexer": "ipython3",
   "version": "3.9.7"
  },
  "toc": {
   "base_numbering": 1,
   "nav_menu": {},
   "number_sections": false,
   "sideBar": true,
   "skip_h1_title": false,
   "title_cell": "Table of Contents",
   "title_sidebar": "Contents",
   "toc_cell": false,
   "toc_position": {
    "height": "calc(100% - 180px)",
    "left": "10px",
    "top": "150px",
    "width": "306.2px"
   },
   "toc_section_display": true,
   "toc_window_display": true
  }
 },
 "nbformat": 4,
 "nbformat_minor": 4
}
